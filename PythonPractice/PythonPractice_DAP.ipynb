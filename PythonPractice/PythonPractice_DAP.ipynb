{
 "cells": [
  {
   "cell_type": "code",
   "execution_count": null,
   "metadata": {},
   "outputs": [],
   "source": [
    "myvariable = \"Hello World!\"\n",
    "myVariable = \"Hellow\""
   ]
  },
  {
   "cell_type": "code",
   "execution_count": null,
   "metadata": {},
   "outputs": [],
   "source": [
    "print(myvariable)\n",
    "print(myVariable)"
   ]
  },
  {
   "cell_type": "code",
   "execution_count": null,
   "metadata": {},
   "outputs": [],
   "source": [
    "first, second, third  =1, 2, 3\n",
    "##assigning mutltiple variables\n",
    "## the variable will go to value in order of placmeent on the string\n",
    "print(first)\n",
    "print(second)\n",
    "print(third)"
   ]
  },
  {
   "cell_type": "code",
   "execution_count": null,
   "metadata": {},
   "outputs": [],
   "source": [
    "a = b = c = \"Apple\"\n",
    "print(a,b,c)"
   ]
  },
  {
   "cell_type": "code",
   "execution_count": null,
   "metadata": {},
   "outputs": [],
   "source": [
    "##concatenation is the term for combining variables or outputs\n",
    "one = \"I Love \"\n",
    "two = \"Savvycoders\"\n",
    "\n",
    "three = one + two\n",
    "\n",
    "print(three)\n",
    "#result of concatenation is a combined string"
   ]
  },
  {
   "cell_type": "code",
   "execution_count": null,
   "metadata": {},
   "outputs": [],
   "source": [
    "one = 5\n",
    "two = 10\n",
    "three = one + two\n",
    "print(three)\n",
    "# if use integers will do arithmetic\n",
    "# if words will combine or concatenate"
   ]
  },
  {
   "cell_type": "code",
   "execution_count": null,
   "metadata": {},
   "outputs": [],
   "source": [
    "one = 5\n",
    "#one = \"5\" can do, because then both strings\n",
    "two = \"10\"\n",
    "three = one + two\n",
    "print(three)\n",
    "#cannot add an integer with a string\n",
    "#two different data types"
   ]
  },
  {
   "cell_type": "markdown",
   "metadata": {},
   "source": [
    "**list** \n",
    "- marked by the brackets or parentheses\n",
    "- commas separate the elements\n",
    "- in class example its a list composed of strings\n",
    "\n",
    "four types of sequences: list, tuple, set, and range\n",
    "\n",
    "these data types are al different methods for assigning variables"
   ]
  },
  {
   "cell_type": "markdown",
   "metadata": {},
   "source": [
    "single = \"Hellow World\"\n",
    "print(single)"
   ]
  },
  {
   "cell_type": "code",
   "execution_count": null,
   "metadata": {},
   "outputs": [],
   "source": [
    "multi = \"\"\"\" \n",
    "************\n",
    "   Hello \n",
    "   World! \n",
    "************\n",
    "\"\"\"\n",
    "print(multi)"
   ]
  },
  {
   "cell_type": "code",
   "execution_count": null,
   "metadata": {},
   "outputs": [],
   "source": [
    "single = \"Hello World!\"\n",
    "print(single, len(single))\n",
    "#len means length, tells you the number of characters in that string\n",
    "#counts spaces as characters in the string"
   ]
  },
  {
   "cell_type": "code",
   "execution_count": null,
   "metadata": {},
   "outputs": [],
   "source": [
    "x = [\"apple\", \"banana\", \"cherry\"]\n",
    "len (x)\n",
    "#tells you the number of elements in a list"
   ]
  },
  {
   "cell_type": "code",
   "execution_count": null,
   "metadata": {},
   "outputs": [],
   "source": [
    "L = \"lemonade shake\"\n",
    "print(\"Element 1 = \" + L[0])\n",
    "print(\"Element 2 = \" + L[1])\n",
    "print(\"Element -6 = \", L[-6])\n",
    "#comma or plus sign is fine"
   ]
  },
  {
   "cell_type": "markdown",
   "metadata": {},
   "source": [
    "# Slicing Strings\n",
    "\n",
    "**[start:end+1:step]**\n",
    "*end pulls up to the number listed but does not include it*\n",
    "\n",
    "## first position is the starting index in the string that you want to pull values from\n",
    "x = computer\n",
    "step is defaulted to 1\n",
    "so x[1:4]\n",
    "\n",
    "counts 1,2,3 or omp\n",
    "\n",
    "x[1:6:2]\n",
    "\n",
    "counts 1,3,5 or opt \n",
    "\n",
    "x[3:]\n",
    "\n",
    "leaving blank means counting to the end of the string\n",
    "works great when do not know ending chracter of string\n",
    "\n",
    "x[:5] or x[0:5]\n",
    "\n",
    "works the same\n",
    "\n",
    "## second position is the ending index in the string that you want to pull values from\n",
    "\n"
   ]
  },
  {
   "cell_type": "code",
   "execution_count": null,
   "metadata": {},
   "outputs": [],
   "source": [
    "L = \"lemonade shake\"\n",
    "\n",
    "print(L[::-1])\n",
    "\n",
    "#method to reverse the order of "
   ]
  },
  {
   "cell_type": "code",
   "execution_count": null,
   "metadata": {},
   "outputs": [],
   "source": [
    "L = \"lemonade shake\"\n",
    "\n",
    "#lemon\n",
    "#ade\n",
    "#ake\n",
    "#lmnd hk\n",
    "\n",
    "print(L[0:5])\n",
    "print(L[5:8])\n",
    "print(len(L))\n",
    "#same result\n",
    "print(L[-3:])\n",
    "print(L[11:14])\n",
    "#same result\n",
    "print(L[0:14:2])\n",
    "print(L[::2])"
   ]
  },
  {
   "cell_type": "markdown",
   "metadata": {},
   "source": [
    "# Python Counting\n",
    "\n",
    "Counting begins with zero\n",
    "Its called zero based indexing\n",
    "\n",
    "Exception when counting backwards, then counting begins at 1\n",
    "use negative/subtraction or hyphen symbol in front of number\n",
    "\n",
    "Bracket notation is important"
   ]
  },
  {
   "cell_type": "code",
   "execution_count": null,
   "metadata": {},
   "outputs": [],
   "source": [
    "string = \"apple\"\n",
    "\n",
    "ls = [\"a\",\"p\",\"p\",\"l\",\"e\"]\n"
   ]
  },
  {
   "cell_type": "code",
   "execution_count": null,
   "metadata": {},
   "outputs": [],
   "source": [
    "print(len(string))\n",
    "#strings are sequences of characters\n",
    "#a sequence is a list of elements\n",
    "print(string[-1])\n",
    "#using brackets and the number in square brackets will print the 0 or first letter in that string\n",
    "print(ls[0])"
   ]
  },
  {
   "cell_type": "markdown",
   "metadata": {},
   "source": [
    "# Casting\n",
    "\n",
    "### most applicable to text and numeric based variables\n",
    "\n",
    "changing the data type of the value"
   ]
  },
  {
   "cell_type": "code",
   "execution_count": null,
   "metadata": {},
   "outputs": [],
   "source": [
    "one = 5\n",
    "two = \"10\"\n",
    "three = one + int(two)\n",
    "print(three)"
   ]
  },
  {
   "cell_type": "code",
   "execution_count": null,
   "metadata": {},
   "outputs": [],
   "source": [
    "type(two)\n",
    "###debugging tool\n",
    "###tells the data type"
   ]
  },
  {
   "cell_type": "code",
   "execution_count": null,
   "metadata": {},
   "outputs": [],
   "source": [
    "import math\n",
    "\n",
    "##allows with module to round which we could not before"
   ]
  },
  {
   "cell_type": "code",
   "execution_count": null,
   "metadata": {},
   "outputs": [],
   "source": [
    "#taking a floating number and casting into an integer\n",
    "#removes the decimal only\n",
    "#does not round it up or down\n",
    "floating = 20.5\n",
    "print(int(floating))\n",
    "print(math.floor(floating))\n",
    "print(math.ceil(floating))"
   ]
  },
  {
   "cell_type": "code",
   "execution_count": null,
   "metadata": {},
   "outputs": [],
   "source": [
    "integer = 20\n",
    "print(float(integer))\n",
    "type(integer)"
   ]
  },
  {
   "cell_type": "code",
   "execution_count": null,
   "metadata": {},
   "outputs": [],
   "source": [
    "floating =20.5\n",
    "print(str(floating), type(str(floating)))\n",
    "#print(str(floating) <-casting to a string type, but not storing to a variable,\n",
    "# type(str(floating <-that is why here have to recast as a string for the typing of it))\n",
    "print(str(floating), type(str(floating)), sep = \"\\n\")\n",
    "#sep is the separator for the printed results, in this case new line\n"
   ]
  },
  {
   "cell_type": "code",
   "execution_count": null,
   "metadata": {},
   "outputs": [],
   "source": []
  },
  {
   "cell_type": "code",
   "execution_count": null,
   "metadata": {},
   "outputs": [],
   "source": []
  },
  {
   "cell_type": "markdown",
   "metadata": {},
   "source": [
    "# Formatting and Reformatting Strings\n",
    "\n",
    "    -finding subset in string\n",
    "    -replacing old with new\n",
    "    -concatenation of string\n",
    "    -replacement operators\n",
    "    -changing variable outputs to lowercase\n",
    "\n"
   ]
  },
  {
   "cell_type": "code",
   "execution_count": null,
   "metadata": {},
   "outputs": [],
   "source": [
    "##Finding subset in a string\n",
    "\n",
    "# finding a sub-string within a string...\n",
    "\n",
    "txt = \"The best class in Saint Louis\"\n",
    "\n",
    "if \"best\" in txt:\n",
    "\tprint(\"Yes, 'best' is present.\")\n",
    "\n",
    "# print only if substring \"expensive\" is NOT present:\n",
    "txt = \"The best things in life are free!\"\n",
    "if \"expensive\" not in txt:\n",
    "    print(\"No, 'expensive' is NOT present.\")"
   ]
  },
  {
   "cell_type": "code",
   "execution_count": null,
   "metadata": {},
   "outputs": [],
   "source": [
    "# Try it out!\n",
    "# Check if the string \"code\" is in the following variable:\n",
    "sc = \"Savvycoders\"\n",
    "\n",
    "##Breakdown of if statement code is the string\n",
    "##sc is the variable\n",
    "\n",
    "if 'code' in sc:\n",
    "    print(\"Yes, 'code' is present\")\n",
    "\n",
    "##not in and in are words"
   ]
  },
  {
   "cell_type": "code",
   "execution_count": null,
   "metadata": {},
   "outputs": [],
   "source": [
    "# Temporarily changing text in a string\n",
    "c = \"Hello World!\"\n",
    "print(c.replace(\"H\", \"J\")) \n",
    "\n",
    "#Permanently changing text in a string by assigning to a new variable\n",
    "d = c.replace(\"World\", \"Fellow\")\n",
    "print(c)\n",
    "print(d)\n",
    "\n",
    "##(variablename.replace(Old word, New world))\n",
    "\n"
   ]
  },
  {
   "cell_type": "code",
   "execution_count": null,
   "metadata": {},
   "outputs": [],
   "source": [
    "# Try it out!\n",
    "# 1. Swap out the first letter of both words, without modifying the variable. Print.\n",
    "# 2. Swap out either of the words with your own word, without modifying the variable. Print.\n",
    "# 3. Print the original variable.\n",
    "sc = \"Savvy Coders\"\n",
    "\n",
    "st = sc.replace(\"Savvy\", \"Tavvy\")\n",
    "sp = st.replace(\"Coders\", \"Poders\")\n",
    "print(sp)\n",
    "\n",
    "print(sc.replace(\"S\",\"T\"))\n",
    "print(sc.replace(\"C\",\"P\"))\n",
    "print(sc.replace(\"Coders\",\"Poodles\"))\n",
    "\n",
    "print(sc)"
   ]
  },
  {
   "cell_type": "code",
   "execution_count": null,
   "metadata": {},
   "outputs": [],
   "source": [
    "name = \"Corwin\"\n",
    "age = \"32\"\n",
    "text = \"My name is \" + name + \", I am \" + age + \" years old.\"\n",
    "print(text)"
   ]
  },
  {
   "cell_type": "code",
   "execution_count": null,
   "metadata": {},
   "outputs": [],
   "source": [
    "# % operator another method for replacement\n",
    "\n",
    "print(\"My puppy is %s months old\" %\"nine\")"
   ]
  },
  {
   "cell_type": "code",
   "execution_count": null,
   "metadata": {},
   "outputs": [],
   "source": [
    "#formatting, .format() function\n",
    "#curly braces {}\n",
    "\n",
    "fruit = \"oranges\"\n",
    "quantity = 400\n",
    "price = 2.99\n",
    "\n",
    "#for format function need curly braces for the replace\n",
    "#can use any simple data type\n",
    "\n",
    "order = \"I want {} {} for {} per pound\"\n",
    "#three variables needed for this string\n",
    "\n",
    "print(order.format(quantity, fruit, price))\n"
   ]
  },
  {
   "cell_type": "code",
   "execution_count": null,
   "metadata": {},
   "outputs": [],
   "source": [
    "# f strings, formatted string literal\n",
    "#pros - human legibility\n",
    "#will know which variables will go into what part of the string\n",
    "#works with capital and lowercase f\n",
    "\n",
    "name = \"Branden\"\n",
    "age = 36\n",
    "print(f\"Hello, {name}. You are {age} years old.\")"
   ]
  },
  {
   "cell_type": "code",
   "execution_count": null,
   "metadata": {},
   "outputs": [],
   "source": [
    "# But you could also call functions. Here’s an example:\n",
    "def to_lowercase(input):\n",
    "    return input.lower()\n",
    "\n",
    "name = \"Eric Idle\"\n",
    "f\"{to_lowercase(name)} is funny.\"\n",
    "\n",
    "# You also have the option of calling a method directly:\n",
    "f\"{name.lower()} is funny.\""
   ]
  },
  {
   "cell_type": "code",
   "execution_count": null,
   "metadata": {},
   "outputs": [],
   "source": [
    "# Try it out!\n",
    "# Using the f-string technique, re-write the following string as a formatted string:\n",
    "# where \"python\" is replaced with your name,\n",
    "# \"Friday\" is replaced with today's day of the week,\n",
    "# \"June\" is replaced with the current month,\n",
    "# \"13\" is replaced with the current day,\n",
    "# and \"2025\" is replaced with current year.\n",
    "# HINT: create variables for all of the above\n",
    "sc = \"My name is python, and today is Friday, June 13 2025.\"\n",
    "\n",
    "name = \"Ayana Scott-Elliston\"\n",
    "day = \"Tuesday\"\n",
    "date = \"18th\"\n",
    "month = \"March\"\n",
    "year = \"2025\"\n",
    "\n",
    "print(f\"My name is {name}, and today is {day}, {month} {date} {year}.\")"
   ]
  },
  {
   "cell_type": "code",
   "execution_count": null,
   "metadata": {},
   "outputs": [],
   "source": [
    "name = \"Ayana Scott-Elliston\"\n",
    "day = \"Tuesday\"\n",
    "date = \"18th\"\n",
    "month = \"March\"\n",
    "year = \"2025\"\n",
    "\n",
    "print(f\"My name is {name}, and today is {day}, {month} {date} {year}.\")"
   ]
  },
  {
   "cell_type": "markdown",
   "metadata": {},
   "source": [
    "# Boolean\n",
    "\n",
    "## 0 or 1 - Treu or False\n",
    "\n",
    "P = False\n",
    "Q = False\n",
    "\n",
    "a lot of concepts in python are based on true and false statements\n",
    "For example if i.e. conditional statements\n"
   ]
  },
  {
   "cell_type": "code",
   "execution_count": null,
   "metadata": {},
   "outputs": [],
   "source": [
    "P = True\n",
    "Q = False\n",
    "\n",
    "print(bool((P and (not Q))or (P and Q)))\n",
    "\n",
    "print(bool(P and not Q))\n",
    "\n",
    "#if conditions are met, response will be true\n",
    "#best method is in comparing datasets\n",
    "#comparing strings\n",
    "# to determine if data is equal to data"
   ]
  },
  {
   "cell_type": "code",
   "execution_count": null,
   "metadata": {},
   "outputs": [],
   "source": [
    "#not working, have questions\n",
    "\n",
    "sc = (\"Savvy\", \"Sassy\")\n",
    "\n",
    "if \"Savvy\" in sc:\n",
    "    P = True\n",
    "\n",
    "if \"Sassy\" not in sc:\n",
    "    Q = True\n",
    "\n",
    "#we want to see if Savvy is in this string and if Sassy is not in this string both conditions at the same time\n",
    "print(bool(P and Q))\n"
   ]
  },
  {
   "cell_type": "code",
   "execution_count": null,
   "metadata": {},
   "outputs": [],
   "source": [
    "#not working, have questions\n",
    "sc = \"Savvy Coders\"\n",
    "\n",
    "if \"Savvy\" in sc:\n",
    "    P = True\n",
    "\n",
    "if \"Coders\" not in sc:\n",
    "    Q = True\n",
    "\n",
    "print(bool(P or Q))"
   ]
  }
 ],
 "metadata": {
  "kernelspec": {
   "display_name": "Python 3",
   "language": "python",
   "name": "python3"
  },
  "language_info": {
   "codemirror_mode": {
    "name": "ipython",
    "version": 3
   },
   "file_extension": ".py",
   "mimetype": "text/x-python",
   "name": "python",
   "nbconvert_exporter": "python",
   "pygments_lexer": "ipython3",
   "version": "3.undefined.undefined"
  }
 },
 "nbformat": 4,
 "nbformat_minor": 2
}
