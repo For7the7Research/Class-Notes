{
 "cells": [
  {
   "cell_type": "markdown",
   "metadata": {},
   "source": [
    "# Tableau\n",
    "\n",
    "## Physical Layer\n",
    "\n",
    "1. We can control or alter the relationship like with SQL without coding, but with clicking.\n",
    "2. Union is when you cram two tables into one table. Only can be done in this layer.\n",
    "\n",
    "## Logical Layer\n",
    "\n",
    "1. Performs the joins on its own without you altering\n",
    "2. When you drag a table into the environment can either make a new base or link to another table, then it would suggest the relationship between IDs (primary anf foreign keys would be the synonyms in SQL).\n",
    "3. Data preview tells you the data types, the column names, where the table is where the columns orignated.\n",
    "\n",
    "Union is when you cram two tables into one table.\n",
    "\n",
    "Can perform splits on data, custom and Tableaur assisted.\n",
    "\n",
    "All data types accepted by Tableau\n",
    "\n"
   ]
  }
 ],
 "metadata": {
  "language_info": {
   "name": "python"
  }
 },
 "nbformat": 4,
 "nbformat_minor": 2
}
