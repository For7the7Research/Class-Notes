{
 "cells": [
  {
   "cell_type": "markdown",
   "metadata": {},
   "source": [
    "# Monday March 24th\n",
    "\n",
    "## Modules, packages, and libraries are generally used interchangeably as terminology\n",
    "\n",
    "Module A collection of simialr code or functions that hsa similar functionality.\n",
    "\n",
    "Packages Groups of similar modules\n",
    "\n",
    "Libraries Group of packages and modules\n",
    "\n",
    "Frameworks Templates, basic structure\n",
    "\n",
    "Note: Jupyter Notebook is like an IDE, integrated development environment, where python is a package\n",
    "\n",
    "Purpose of all four of these - someone has done the work to write this code to build this functionality outside of the base python langauge, if they did not exist you would have to create this code yourself\n",
    "\n",
    "Sets of reusable code that you can pull in that was written elsewhere which you have a need to use\n",
    "\n",
    "Syntax to import a package\n",
    "\n",
    "import to bring in the package\n",
    "\n",
    "import math\n",
    "(to pull in the package) (package name)\n",
    "\n",
    "Always pull up documentation on a package or module to determine how to use it before importing\n",
    "\n",
    "Alot of the time, you can alias when importing packages\n",
    "\n",
    "Packages use memory, i.e. space on your computer"
   ]
  },
  {
   "cell_type": "code",
   "execution_count": null,
   "metadata": {},
   "outputs": [],
   "source": [
    "#Packages\n",
    "#math\n",
    "#random\n",
    "#datetime\n",
    "\n",
    "#syntax to import"
   ]
  },
  {
   "cell_type": "code",
   "execution_count": null,
   "metadata": {},
   "outputs": [],
   "source": [
    "import math\n",
    "import random\n",
    "import datetime "
   ]
  },
  {
   "cell_type": "code",
   "execution_count": null,
   "metadata": {},
   "outputs": [],
   "source": [
    "print(math.ceil(2.5))\n",
    "print(math.floor(2.5))"
   ]
  },
  {
   "cell_type": "code",
   "execution_count": null,
   "metadata": {},
   "outputs": [],
   "source": [
    "random.randint(1, 100)\n",
    "\n",
    "#returned random integer in a range (), you set the range"
   ]
  },
  {
   "cell_type": "code",
   "execution_count": null,
   "metadata": {},
   "outputs": [],
   "source": [
    "#creating an alias for a packaage\n",
    "\n",
    "import datetime as dt\n",
    "import pandas as pd\n",
    "import numpy as np"
   ]
  },
  {
   "cell_type": "code",
   "execution_count": null,
   "metadata": {},
   "outputs": [],
   "source": [
    "#without an alias\n",
    "#print(datetime.datetime.now())\n"
   ]
  },
  {
   "cell_type": "code",
   "execution_count": null,
   "metadata": {},
   "outputs": [],
   "source": [
    "# function, class, action\n",
    "\n",
    "print(dt.datetime.now())\n",
    "print(dt.date.today())\n",
    "\n",
    "#class datetime, could import a single item or class from that module"
   ]
  },
  {
   "cell_type": "code",
   "execution_count": null,
   "metadata": {},
   "outputs": [],
   "source": [
    "# how do you print just the time?"
   ]
  },
  {
   "cell_type": "code",
   "execution_count": null,
   "metadata": {},
   "outputs": [],
   "source": [
    "from datetime import date"
   ]
  },
  {
   "cell_type": "code",
   "execution_count": null,
   "metadata": {},
   "outputs": [],
   "source": [
    "today= date.today()\n",
    "print(today.year)\n",
    "print(today.month)\n",
    "print(today.day)"
   ]
  },
  {
   "cell_type": "code",
   "execution_count": null,
   "metadata": {},
   "outputs": [],
   "source": [
    "import datetime as dt\n",
    "\n",
    "current_time = dt.datetime.now()\n",
    "#print(current time)\n",
    "print(current_time.strftime(\"%I:%M:%S %p\"))"
   ]
  },
  {
   "cell_type": "code",
   "execution_count": null,
   "metadata": {},
   "outputs": [],
   "source": [
    "import math"
   ]
  },
  {
   "cell_type": "code",
   "execution_count": null,
   "metadata": {},
   "outputs": [],
   "source": [
    "#rounds up\n",
    "window = math.ceil(2.5)\n",
    "#rounds down\n",
    "wall = math.floor(2.5)\n",
    "\n",
    "print(window)\n",
    "print(wall)\n",
    "\n",
    "#absolute value\n",
    "\n",
    "print(math.fabs(-66.43))\n",
    "print(\"absolute value:   \", math.fabs(-66.43))\n",
    "#base python also has absolute value without the math module\n",
    "print(\"absolute value:   \", abs(-66.43))\n",
    "\n",
    "#list of numbers\n",
    "\n",
    "numlist = [1.3, 1.9, 4, 8.4]\n",
    "\n",
    "print(math.fsum(numlist))\n",
    "\n",
    "# square root\n",
    "\n",
    "print(math.sqrt(225))\n",
    "\n",
    "print(math.pi)"
   ]
  },
  {
   "cell_type": "code",
   "execution_count": null,
   "metadata": {},
   "outputs": [],
   "source": [
    "import random"
   ]
  },
  {
   "cell_type": "code",
   "execution_count": null,
   "metadata": {},
   "outputs": [],
   "source": [
    "fruits = [\"apple\", \"pear\", \"orange\", \"mango\"]"
   ]
  },
  {
   "cell_type": "code",
   "execution_count": null,
   "metadata": {},
   "outputs": [],
   "source": [
    "random.shuffle(fruits)\n",
    "print(fruits)"
   ]
  },
  {
   "cell_type": "code",
   "execution_count": null,
   "metadata": {},
   "outputs": [],
   "source": [
    "print(random.choice(fruits))"
   ]
  },
  {
   "cell_type": "markdown",
   "metadata": {},
   "source": [
    "# Exception Handling\n",
    "\n",
    "## exception statements can be used to identify errors\n",
    "\n",
    "try statement\n",
    "except which handles the error\n",
    "\n",
    "else executes when there is no error\n",
    "finally regardeless of try or except\n",
    "\n",
    "when you define a try you always need an except\n",
    "\n",
    "try most be at left most indent level\n",
    "\n",
    "If you wish to handle an error in a more graceful manner (can define how the error is relayed back to you)\n",
    "\n",
    "An undefined variable is an ame error\n",
    "\n",
    "Key not found in a dictionary because it does not exist\n",
    "\n",
    "## Defining a function\n",
    "\n",
    "def my_addiction_function():\n",
    "\n",
    "    print(x+y)\n",
    "\n",
    "parameters are x and y\n",
    "for integers or numbers\n",
    "function is the one I have defined, my_addiction_function"
   ]
  },
  {
   "cell_type": "code",
   "execution_count": null,
   "metadata": {},
   "outputs": [],
   "source": [
    "#normally would get an error\n",
    "\n",
    "print(c)"
   ]
  },
  {
   "cell_type": "code",
   "execution_count": null,
   "metadata": {},
   "outputs": [],
   "source": [
    "#this lets us set a respose for our errors\n",
    "\n",
    "c = 1\n",
    "try:\n",
    "    print(c)\n",
    "except:\n",
    "    print(\"an exception occured\")\n",
    "else:\n",
    "    print(\"runs when no error occurs\")\n",
    "finally:\n",
    "    print(\"regardless of error or success\")"
   ]
  },
  {
   "cell_type": "code",
   "execution_count": null,
   "metadata": {},
   "outputs": [],
   "source": [
    "#c = 1\n",
    "# whatever exception it hits first will exit and goto the else and finally block\n",
    "try:\n",
    "    #mydictionary = {\"fruit:\"apple\"}\n",
    "    #myfruits = [\"apple\",\"cookie\"]\n",
    "    #print(myfruits[2])\n",
    "    print(cookie)\n",
    "except NameError:\n",
    "    print(\"A NameError exception occured\")\n",
    "except KeyError:\n",
    "    print(\"A KeyError exception occured\")\n",
    "except:\n",
    "    print(\"this is generic exception\")\n",
    "else:\n",
    "    print(\"runs when no error occurs\")\n",
    "finally:\n",
    "    print(\"regardless of error or success\")"
   ]
  },
  {
   "cell_type": "code",
   "execution_count": null,
   "metadata": {},
   "outputs": [],
   "source": [
    "def my_addiction_function(x,y):\n",
    "    print(x+y)"
   ]
  },
  {
   "cell_type": "code",
   "execution_count": null,
   "metadata": {},
   "outputs": [],
   "source": [
    "def my_addiction_function(x:int,y:int):\n",
    "#pseudo code is plain english just notes\n",
    "    #check x to see if it is an integer\n",
    "    if type(x) is int and type(y) is int:\n",
    "    #check y to see if it is an integer\n",
    "        print(x+y)\n",
    "    else:\n",
    "        print (\"please pass two integers\")"
   ]
  },
  {
   "cell_type": "code",
   "execution_count": null,
   "metadata": {},
   "outputs": [],
   "source": [
    "my_addiction_function(3,5)\n",
    "\n",
    "## cannot add a string to an integer\n",
    "\n",
    "my_addiction_function(\"3\",\"5\")\n",
    "\n",
    "#but can combine strings"
   ]
  },
  {
   "cell_type": "code",
   "execution_count": null,
   "metadata": {},
   "outputs": [],
   "source": [
    "def my_input_calc():\n",
    "    x = int(input(\"please give a number\"))\n",
    "    y = int(input(\"Please give a number\"))\n",
    "\n",
    "    print(x + y)"
   ]
  },
  {
   "cell_type": "code",
   "execution_count": null,
   "metadata": {},
   "outputs": [],
   "source": [
    "## can also set a default parameter\n",
    "\n",
    "def my_addiction_function(x:int,y=19):\n",
    "#pseudo code is plain english just notes\n",
    "    #check x to see if it is an integer\n",
    "    if type(x) is int and type(y) is int:\n",
    "    #check y to see if it is an integer\n",
    "        print(x+y)\n",
    "    else:\n",
    "        print (\"please pass two integers\")"
   ]
  },
  {
   "cell_type": "code",
   "execution_count": null,
   "metadata": {},
   "outputs": [],
   "source": [
    "my_addiction_function(0)"
   ]
  },
  {
   "cell_type": "code",
   "execution_count": null,
   "metadata": {},
   "outputs": [],
   "source": [
    "## can also set a default parameter\n",
    "#storing the resulting value\n",
    "\n",
    "def my_addiction_function(x:int,y=19):\n",
    "#pseudo code is plain english just notes\n",
    "    #check x to see if it is an integer\n",
    "    if type(x) is int and type(y) is int:\n",
    "    #check y to see if it is an integer\n",
    "        return x + y\n",
    "    else:\n",
    "        print (\"please pass two integers\")"
   ]
  },
  {
   "cell_type": "code",
   "execution_count": null,
   "metadata": {},
   "outputs": [],
   "source": [
    "x = my_addiction_function(0)"
   ]
  },
  {
   "cell_type": "code",
   "execution_count": null,
   "metadata": {},
   "outputs": [],
   "source": [
    "print(x)"
   ]
  },
  {
   "cell_type": "markdown",
   "metadata": {},
   "source": [
    "# Scope of Variable\n",
    "\n",
    "## Variable Scoping\n",
    "\n",
    "    1. **Global Variable**  \n",
    "    2. **Local Variable**\n",
    "    \n",
    "## Lammbda\n",
    "\n",
    "define like you would a variable\n"
   ]
  },
  {
   "cell_type": "code",
   "execution_count": null,
   "metadata": {},
   "outputs": [],
   "source": [
    "\n",
    "\n",
    "def variable_scope(param1, param2):\n",
    "    innervar = param1 + param2\n",
    "    print(innervar)\n",
    "    return innervar\n",
    "t = variable_scope(2,4)\n",
    "\n",
    "\n",
    "#print(innervar)\n",
    "#cannot use the print variable outside of the function, so when print outside get a name error"
   ]
  },
  {
   "cell_type": "code",
   "execution_count": null,
   "metadata": {},
   "outputs": [],
   "source": [
    "my_first_lambda = lambda x , y : x + y\n",
    "\n",
    "print(my_first_lambda(5,6))"
   ]
  },
  {
   "cell_type": "code",
   "execution_count": null,
   "metadata": {},
   "outputs": [],
   "source": [
    "my_second_lambda = lambda string : string.upper()\n",
    "\n",
    "def my_sec_func(string):\n",
    "    return string.upper()\n",
    "#function defintion version of this lambda equation\n",
    "\n",
    "print(my_second_lambda(\"uppercase'\"))\n",
    "print(my_sec_func(\"lowercase\"))"
   ]
  },
  {
   "cell_type": "markdown",
   "metadata": {},
   "source": [
    "# Tuesday March 25, 2025\n",
    "\n",
    "## Forensices with git\n",
    "\n",
    "### git fetch\n",
    "\n",
    "reaches out to git to determine the  needed\n",
    "\n",
    "git log origin main to determine all the upda\n",
    "\n",
    "git fetch\n",
    " - local repo and git repo have communicated\n",
    " - nothing has been touched\n",
    " - it just brings all of the changes together to see\n",
    "\n",
    "\n",
    "git merge\n",
    "\n",
    "git has a concept of a remote\n",
    "\n",
    "git remote -v\n",
    "    -v = means verbose, more detail and output\n",
    "    - will show you all of the remote repositories\n",
    "\n",
    "Origin the default, the one we copied from git hub, reference to githubs copy of this repository\n",
    "\n",
    "fast-forward\n",
    "    - were able to bring together all changes from local and git repository \n",
    "    - without any glitches or ones that conflict with one another\n",
    "\n",
    "git diff\n",
    "    - gives you the differences/changes in this file since the lst time it was committed to github\n"
   ]
  },
  {
   "cell_type": "markdown",
   "metadata": {},
   "source": [
    "# Python Arrays and Into to NumPy\n",
    "\n",
    "Arrays and List have similarities, but not exactly the same\n",
    "\n",
    "In NumPy we use arrays because faster and more restrictive python list\n",
    "\n",
    "python list can contain different data types\n",
    "\n",
    "Convenient and powerful, but slower\n",
    "\n",
    "Faster, more restricted its behavior\n",
    "\n",
    "## Array\n",
    "\n",
    "    Can only store one data type at a time\n",
    "\n",
    "    Allocation setting aside space for a set of\n",
    "\n",
    "    Not just speed, but size of data/space it requires\n",
    "\n",
    "pip3 install numpy \n",
    "\n",
    "alot of packages and modules are built upon others\n",
    "\n"
   ]
  },
  {
   "cell_type": "markdown",
   "metadata": {},
   "source": [
    "# NumPy\n",
    "\n",
    "## Many uses\n",
    "\n",
    "1D array is a list\n",
    "Example: a shopping list\n",
    "\n",
    "2D array is a spreadsheet or a table\n",
    "Goes left to right and up and down\n",
    "Example: a map, the background in mario brothers nintendo game\n",
    "\n",
    "3D array is a three dimensional spread\n",
    "Example: planet earth\n",
    "\n",
    "You are tracking relationships"
   ]
  },
  {
   "cell_type": "code",
   "execution_count": null,
   "metadata": {},
   "outputs": [],
   "source": [
    "a_1d = np.arange(12)\n",
    "a_2d = a_1d.reshape(3,4)\n",
    "#3 rows, 4 columns, 12 is the amount of cells or elements"
   ]
  },
  {
   "cell_type": "code",
   "execution_count": 5,
   "metadata": {},
   "outputs": [
    {
     "data": {
      "text/plain": [
       "array([[ 0,  1,  2,  3],\n",
       "       [ 4,  5,  6,  7],\n",
       "       [ 8,  9, 10, 11]])"
      ]
     },
     "execution_count": 5,
     "metadata": {},
     "output_type": "execute_result"
    }
   ],
   "source": [
    "import numpy\n",
    "numpy.arange(12)\n",
    "array=([0,1,2,3,4,5,6,7,8,9,10,11])\n",
    "numpy.arange(12).reshape((3,4))"
   ]
  },
  {
   "cell_type": "code",
   "execution_count": null,
   "metadata": {},
   "outputs": [
    {
     "ename": "AttributeError",
     "evalue": "'list' object has no attribute 'reshape'",
     "output_type": "error",
     "traceback": [
      "\u001b[31m---------------------------------------------------------------------------\u001b[39m",
      "\u001b[31mAttributeError\u001b[39m                            Traceback (most recent call last)",
      "\u001b[36mCell\u001b[39m\u001b[36m \u001b[39m\u001b[32mIn[8]\u001b[39m\u001b[32m, line 9\u001b[39m\n\u001b[32m      7\u001b[39m array=([\u001b[32m0\u001b[39m,\u001b[32m1\u001b[39m,\u001b[32m2\u001b[39m,\u001b[32m3\u001b[39m,\u001b[32m4\u001b[39m,\u001b[32m5\u001b[39m,\u001b[32m6\u001b[39m,\u001b[32m7\u001b[39m,\u001b[32m8\u001b[39m,\u001b[32m9\u001b[39m,\u001b[32m10\u001b[39m,\u001b[32m11\u001b[39m])\n\u001b[32m      8\u001b[39m numpy.arange(\u001b[32m12\u001b[39m).reshape((\u001b[32m2\u001b[39m,\u001b[32m6\u001b[39m))\n\u001b[32m----> \u001b[39m\u001b[32m9\u001b[39m \u001b[43marray\u001b[49m\u001b[43m.\u001b[49m\u001b[43mreshape\u001b[49m(\u001b[32m1\u001b[39m,\u001b[32m12\u001b[39m)\n",
      "\u001b[31mAttributeError\u001b[39m: 'list' object has no attribute 'reshape'"
     ]
    }
   ],
   "source": [
    "##reshape is an important tool to visualize, changes the dimensionality of the dataset\n",
    "# can take a flat data set and take into pieces that are easier to relate\n",
    "#can take 3d data set and then flatten it\n",
    "\n",
    "import numpy\n",
    "numpy.arange(12)\n",
    "array=([0,1,2,3,4,5,6,7,8,9,10,11])\n",
    "numpy.arange(12).reshape((2,6))\n"
   ]
  },
  {
   "attachments": {
    "NumPy_3D_Tensor.png": {
     "image/png": "[encoded data removed]"
    }
   },
   "cell_type": "markdown",
   "metadata": {},
   "source": [
    "# Three Dimensional Array\n",
    "\n",
    "## Also known as a tensor in machine learning world\n",
    "\n",
    "![NumPy_3D_Tensor.png](attachment:NumPy_3D_Tensor.png)\n",
    "\n",
    "you have to be to multiple the dimensions, lwh\n",
    "\n",
    "Hint when reviewing code to determine the dimensions\n",
    "    - 3 square brackets 3 dimensions\n",
    "    - 2 square brackets 2 dimensions\n",
    "    - 1 square bracket 1 dimension\n",
    "\n",
    "... means the output has been truncated\n",
    "\n",
    "arange just means an array"
   ]
  },
  {
   "cell_type": "code",
   "execution_count": 10,
   "metadata": {},
   "outputs": [
    {
     "data": {
      "text/plain": [
       "array([   0,   50,  100,  150,  200,  250,  300,  350,  400,  450,  500,\n",
       "        550,  600,  650,  700,  750,  800,  850,  900,  950, 1000])"
      ]
     },
     "execution_count": 10,
     "metadata": {},
     "output_type": "execute_result"
    }
   ],
   "source": [
    "import numpy as np\n",
    "\n",
    "np.arange(0,1001, 50)"
   ]
  },
  {
   "cell_type": "markdown",
   "metadata": {},
   "source": [
    ".linspace() can also give you some idea about how to set up bins in a histogram - matprolib will give a better method"
   ]
  },
  {
   "cell_type": "markdown",
   "metadata": {},
   "source": [
    "# Data Types and Arrays\n",
    "\n",
    "NumPy and Pandas - a whole other language within Python, like a dialect\n",
    "\n",
    "Extensible"
   ]
  },
  {
   "cell_type": "code",
   "execution_count": null,
   "metadata": {},
   "outputs": [
    {
     "name": "stdout",
     "output_type": "stream",
     "text": [
      "[1, 'hello!', False]\n",
      "<class 'int'>\n",
      "<class 'str'>\n",
      "<class 'bool'>\n"
     ]
    },
    {
     "data": {
      "text/plain": [
       "numpy.str_"
      ]
     },
     "execution_count": 16,
     "metadata": {},
     "output_type": "execute_result"
    }
   ],
   "source": [
    "x = [1, \"hello!\", False]\n",
    "print(x)\n",
    "print(type(x[0]))\n",
    "print(type(x[1]))\n",
    "print(type(x[2]))\n",
    "\n",
    "numpy\n",
    "\n",
    "#try to pass the list througha a numbpy array\n",
    "numpy.array(x)\n",
    "#turns it all into a mnumpy string\n",
    "#casted it into a chosen data type, lost information, destructive code\n",
    "ar = numpy.array(x)\n",
    "\n",
    "type(ar[0])\n",
    "\n",
    "# will need to set the data type and we can do that manually\n"
   ]
  },
  {
   "cell_type": "code",
   "execution_count": null,
   "metadata": {},
   "outputs": [],
   "source": [
    "# explicitly specify which data type you want\n",
    "import numpy as np\n",
    "#explicitly settings as an integer\n",
    "#64 is the bits, how much space do we allocate to define this output\n",
    "#able to store extremely large numbers\n",
    "#binary space \n",
    "h = np.ones(2, dtype=np.int64)\n",
    "print(h)\n",
    "###python recognizes underscores as numerical commas to split up large nume"
   ]
  },
  {
   "attachments": {
    "shallowvs.deepcopy.jpg": {
     "image/jpeg": "[encoded data removed]"
    }
   },
   "cell_type": "markdown",
   "metadata": {},
   "source": [
    "# Shallow Copy\n",
    "\n",
    "![shallowvs.deepcopy.jpg](attachment:shallowvs.deepcopy.jpg)\n",
    "\n",
    "Be aware of what the assignment modifier is doing"
   ]
  },
  {
   "cell_type": "code",
   "execution_count": null,
   "metadata": {},
   "outputs": [
    {
     "name": "stdout",
     "output_type": "stream",
     "text": [
      "['chocolate', 'vanilla']\n",
      "['chocolate', 'vanilla', 'Rocky Road']\n",
      "['chocolate', 'vanilla', 'Rocky Road']\n"
     ]
    }
   ],
   "source": [
    "#Example of shallow clone\n",
    "\n",
    "flavors = [\"chocolate\",\"vanilla\"]\n",
    "print(flavors)\n",
    "hated = flavors\n",
    "\n",
    "hated.append(\"Rocky Road\")\n",
    "\n",
    "print(hated)\n",
    "print(flavors)\n",
    "\n",
    "#exact same object in the computers understanding\n",
    "#gives two different references for the same thing"
   ]
  },
  {
   "cell_type": "code",
   "execution_count": null,
   "metadata": {},
   "outputs": [
    {
     "name": "stdout",
     "output_type": "stream",
     "text": [
      "['chocolate', 'vanilla', 'Rocky Road']\n",
      "['chocolate', 'vanilla']\n"
     ]
    },
    {
     "data": {
      "text/plain": [
       "True"
      ]
     },
     "execution_count": 23,
     "metadata": {},
     "output_type": "execute_result"
    }
   ],
   "source": [
    "import copy\n",
    "\n",
    "flavors = [\"chocolate\",\"vanilla\"]\n",
    "\n",
    "hated = copy.deepcopy(flavors)\n",
    "\n",
    "hated.append(\"Rocky Road\")\n",
    "\n",
    "print(hated)\n",
    "print(flavors)\n",
    "\n",
    "flavors == hated\n",
    "#false\n",
    "\n",
    "flavors[0] == hated[0]\n",
    "#true, bx chocolate\n",
    "\n",
    "#copy.deepcopy() - recursive copu, copies the entire 3 Dimensional array"
   ]
  },
  {
   "cell_type": "code",
   "execution_count": null,
   "metadata": {},
   "outputs": [
    {
     "name": "stdout",
     "output_type": "stream",
     "text": [
      "I love Chcoc\n",
      "I love Marshmellows\n"
     ]
    }
   ],
   "source": [
    "#Shallow clone happens in defining a list, that is okay\n",
    "flavors = [\"Chcoc\", \"Marshmellows\"]\n",
    "ice_cream_types = flavors\n",
    "\n",
    "def describe_flavors(list_of_flavors):\n",
    "    for flave in list_of_flavors:\n",
    "            print(\"I love\", flave)\n",
    "\n",
    "describe_flavors(flavors)"
   ]
  },
  {
   "cell_type": "markdown",
   "metadata": {},
   "source": [
    "# Pandas\n",
    "\n",
    "Append function in pandas has now been removed"
   ]
  },
  {
   "cell_type": "code",
   "execution_count": 85,
   "metadata": {},
   "outputs": [],
   "source": [
    "import numpy as np\n",
    "import pandas as pd"
   ]
  },
  {
   "cell_type": "code",
   "execution_count": 86,
   "metadata": {},
   "outputs": [
    {
     "name": "stdout",
     "output_type": "stream",
     "text": [
      "0    20\n",
      "1    40\n",
      "2    60\n",
      "dtype: int64\n",
      "20\n"
     ]
    }
   ],
   "source": [
    "age = [20, 40, 60]\n",
    "years = pd.Series(age)\n",
    "print(years)\n",
    "print(age[0])"
   ]
  },
  {
   "cell_type": "code",
   "execution_count": 88,
   "metadata": {},
   "outputs": [],
   "source": [
    "#ways to combine series\n",
    "\n",
    "#concatenation\n",
    "\n",
    "##.concat()\n",
    "\n",
    "#append\n",
    "\n",
    "##series.append()\n",
    "\n",
    "#merge\n",
    "\n",
    "###pandas.merge()\n",
    "\n",
    "#joining data frame\n",
    "\n",
    "##dataframe.join()"
   ]
  },
  {
   "cell_type": "code",
   "execution_count": null,
   "metadata": {},
   "outputs": [
    {
     "name": "stdout",
     "output_type": "stream",
     "text": [
      "0      Spark\n",
      "1    PySpark\n",
      "2     Hadoop\n",
      "Name: Courses, dtype: object\n",
      "0    2200\n",
      "1    2500\n",
      "2    2300\n",
      "Name: Fees, dtype: int64\n",
      "0     100\n",
      "1    2300\n",
      "2    1000\n",
      "Name: Discount, dtype: int64\n",
      "   Courses  Fees\n",
      "0    Spark  2200\n",
      "1  PySpark  2500\n",
      "2   Hadoop  2300\n"
     ]
    }
   ],
   "source": [
    "#concatenation examples\n",
    "\n",
    "#name our columbs by adding a name into te Series\n",
    "courses = pd.Series([\"Spark\", \"PySpark\", \"Hadoop\"], name=\"Courses\")\n",
    "fees = pd.Series([2200,2500,2300], name=\"Fees\")\n",
    "discount = pd.Series([100,2300,1000], name=\"Discount\")\n",
    "\n",
    "print(courses)\n",
    "print(fees)\n",
    "print(discount)   \n",
    "\n",
    "#axis = 1 ensures you have your columns, without wont will just be one large column visually\n",
    "#we combined the series together with this function\n",
    "df = pd.concat([courses, fees], axis=1)\n",
    "print(df)\n"
   ]
  },
  {
   "cell_type": "code",
   "execution_count": null,
   "metadata": {},
   "outputs": [
    {
     "name": "stdout",
     "output_type": "stream",
     "text": [
      "    Courses  Fees  Discount\n",
      "r1    Spark  2200       100\n",
      "r2  PySpark  2500      2300\n",
      "r3   Hadoop  2300      1000\n"
     ]
    }
   ],
   "source": [
    "index_labels = [\"r1\", \"r2\", \"r3\"]\n",
    "courses.index=index_labels\n",
    "fees.index = index_labels\n",
    "discount.index = index_labels\n",
    "\n",
    "df= pd.concat([courses, fees, discount], axis =1)\n",
    "print(df)"
   ]
  },
  {
   "cell_type": "code",
   "execution_count": null,
   "metadata": {},
   "outputs": [
    {
     "name": "stdout",
     "output_type": "stream",
     "text": [
      "    Courses  Course Fee  Course Discount\n",
      "r1    Spark        2200              100\n",
      "r2  PySpark        2500             2300\n",
      "r3   Hadoop        2300             1000\n",
      "    Courses  Course Fee  Course Discount\n",
      "r1    Spark        2200              100\n",
      "r2  PySpark        2500             2300\n",
      "r3   Hadoop        2300             1000\n",
      "   Courses  Course Fee  Course Discount\n",
      "0    Spark        2200              100\n",
      "1  PySpark        2500             2300\n",
      "2   Hadoop        2300             1000\n"
     ]
    }
   ],
   "source": [
    "#data frames function like dictionaries\n",
    "\n",
    "df = pd.concat({\"Courses\"        : courses,\n",
    "                \"Course Fee\"     : fees,\n",
    "                \"Course Discount\": discount}, axis = 1)\n",
    "\n",
    "print(df)\n",
    "\n",
    "#will return your original indeces, if need to see those\n",
    "df = df.reset_index()\n",
    "print(df)\n",
    "#drop defaults to False\n",
    "#drop will use your original indeces without creating a new column\n",
    "df = df.reset_index(drop=1)\n",
    "print(df)"
   ]
  },
  {
   "cell_type": "code",
   "execution_count": null,
   "metadata": {},
   "outputs": [
    {
     "name": "stdout",
     "output_type": "stream",
     "text": [
      "    Courses  Fees\n",
      "r1    Spark  2200\n",
      "r2  PySpark  2500\n",
      "r3   Hadoop  2300\n"
     ]
    }
   ],
   "source": [
    "#merge function frm pandas\n",
    "# pd.merge(S1, S2, right_index = true, left_index = true)\n",
    "\n",
    "df = pd.merge(courses, fees, right_index = True, left_index =  True)\n",
    "print(df)\n",
    "\n",
    "#easier to read, fewer lines of code"
   ]
  },
  {
   "cell_type": "code",
   "execution_count": null,
   "metadata": {},
   "outputs": [
    {
     "name": "stdout",
     "output_type": "stream",
     "text": [
      "  All Courses\n",
      "0      Pandas\n",
      "1      Python\n",
      "2       Scala\n",
      "3       Spark\n",
      "4     PySpark\n",
      "5      Hadoop\n"
     ]
    }
   ],
   "source": [
    "#Append Function has been Removed from Pandas, CAN NO LONGER USE\n",
    "    #pd.DataFrame(series.append(Series,ignore_index=True))\n",
    "\n",
    "#coursesAM = pd.Series([\"Spark\", \"PySpark\", \"Hadoop\"])\n",
    "#df = pd.DataFrame(pd.append([coursesPM, coursesAM], ignore_index = True), columns = [\"All Courses\"])\n",
    "\n",
    "coursesAM = pd.Series([\"Spark\", \"PySpark\", \"Hadoop\"])\n",
    "df = pd.DataFrame(pd.concat([coursesPM, coursesAM], ignore_index = True), columns = [\"All Courses\"])\n",
    "print(df)"
   ]
  },
  {
   "cell_type": "code",
   "execution_count": null,
   "metadata": {},
   "outputs": [
    {
     "name": "stdout",
     "output_type": "stream",
     "text": [
      "    Courses  Fees  Discount\n",
      "r1    Spark  2200       100\n",
      "r2  PySpark  2500      2300\n",
      "r3   Hadoop  2300      1000\n"
     ]
    }
   ],
   "source": [
    "#DataFrame.join()\n",
    "#turns two series into a data frame by joining them\n",
    "\n",
    "df =  pd.DataFrame(courses).join(fees).join(discount)\n",
    "#df = pd.DataFrame(df.join(discount))\n",
    "#as a way to combine using as a variable\n",
    "print(df)"
   ]
  },
  {
   "cell_type": "markdown",
   "metadata": {},
   "source": [
    "# Additional Notes\n",
    "\n",
    "Can use a dictionary with a data frame"
   ]
  },
  {
   "cell_type": "code",
   "execution_count": 43,
   "metadata": {},
   "outputs": [
    {
     "name": "stdout",
     "output_type": "stream",
     "text": [
      "   apples  oranges\n",
      "0       3        0\n",
      "1       2        3\n",
      "2       0        7\n",
      "3       1        2\n",
      "         apples  oranges\n",
      "Nate          3        0\n",
      "Amar          2        3\n",
      "Blonnie       0        7\n",
      "Ayana         1        2\n",
      "Nate       0\n",
      "Amar       3\n",
      "Blonnie    7\n",
      "Ayana      2\n",
      "Name: oranges, dtype: int64\n",
      "apples     1\n",
      "oranges    2\n",
      "Name: Ayana, dtype: int64\n"
     ]
    }
   ],
   "source": [
    "# Dictionary Format\n",
    "\n",
    "#declared dictionary\n",
    "dataDict = {\n",
    "    \"apples\" : [3,2,0,1],\n",
    "    \"oranges\": [0,3,7,2]\n",
    "}\n",
    "\n",
    "#put purchases dictionary into a dataframe\n",
    "purchases = pd.DataFrame(dataDict)\n",
    "print(purchases)\n",
    "\n",
    "#created columns and rows\n",
    "purchases = pd.DataFrame(dataDict, index=[\"Nate\",\"Amar\", \"Blonnie\",\"Ayana\"])\n",
    "print(purchases)\n",
    "\n",
    "#extracted data\n",
    "print(purchases[\"oranges\"])\n",
    "print(purchases.loc[\"Ayana\"])"
   ]
  },
  {
   "cell_type": "code",
   "execution_count": 62,
   "metadata": {},
   "outputs": [
    {
     "name": "stdout",
     "output_type": "stream",
     "text": [
      "              Classes  Grades\n",
      "0             Physics      75\n",
      "1             Spanish      80\n",
      "2               Lunch     100\n",
      "3              German      60\n",
      "4  Physical Education     100\n",
      "Classes    German\n",
      "Grades         60\n",
      "Name: 3, dtype: object\n",
      "  Classes  Grades\n",
      "2   Lunch     100\n",
      "3  German      60\n",
      "                   Classes  Grades\n",
      "Week 1             Physics      75\n",
      "Week 2             Spanish      80\n",
      "Week 3               Lunch     100\n",
      "Week 4              German      60\n",
      "Week 5  Physical Education     100\n",
      "Classes    Physical Education\n",
      "Grades                    100\n",
      "Name: Week 5, dtype: object\n"
     ]
    }
   ],
   "source": [
    "Report = {\n",
    "    \"Classes\" : [\"Physics\", \"Spanish\", \"Lunch\", \"German\", \"Physical Education\"],\n",
    "    \"Grades\"  : [75,80,100, 60,100]\n",
    "}\n",
    "\n",
    "#make a results dataframe\n",
    "results = pd.DataFrame(Report)\n",
    "print(results)\n",
    "\n",
    "print(results.loc[3])\n",
    "type(results.loc[3])\n",
    "#print(results[\"Lunch\"])\n",
    "\n",
    "print(results.loc[[2,3]])\n",
    "type(results.loc[[2,3]])\n",
    "\n",
    "results = pd.DataFrame(Report, index=[\"Week 1\", \"Week 2\", \"Week 3\", \"Week 4\", \"Week 5\"])\n",
    "print(results)\n",
    "#looks like can only pull with the index number in this setup because it is not a column name, but can pull with colunn name and the now assigned row indeces\n",
    "print(results.loc[\"Week 5\"])\n"
   ]
  },
  {
   "cell_type": "code",
   "execution_count": 73,
   "metadata": {},
   "outputs": [
    {
     "name": "stdout",
     "output_type": "stream",
     "text": [
      "         Country  Year   Population Continent\n",
      "1      Australia  1957    9712569.0   Oceania\n",
      "4         France  1957   44310863.0    Europe\n",
      "0    Afghanistan  1952    8425333.0      Asia\n",
      "3          China  1957  637408000.0      Asia\n",
      "5          India  1952  372000000.0      Asia\n",
      "2         Brazil  1962   76039390.0  Americas\n",
      "7  United States  1957  171984000.0  Americas\n",
      "6   South Africa  1966          NaN    Africa\n"
     ]
    },
    {
     "data": {
      "text/html": [
       "<div>\n",
       "<style scoped>\n",
       "    .dataframe tbody tr th:only-of-type {\n",
       "        vertical-align: middle;\n",
       "    }\n",
       "\n",
       "    .dataframe tbody tr th {\n",
       "        vertical-align: top;\n",
       "    }\n",
       "\n",
       "    .dataframe thead th {\n",
       "        text-align: right;\n",
       "    }\n",
       "</style>\n",
       "<table border=\"1\" class=\"dataframe\">\n",
       "  <thead>\n",
       "    <tr style=\"text-align: right;\">\n",
       "      <th></th>\n",
       "      <th>Country</th>\n",
       "      <th>Year</th>\n",
       "      <th>Population</th>\n",
       "      <th>Continent</th>\n",
       "    </tr>\n",
       "  </thead>\n",
       "  <tbody>\n",
       "    <tr>\n",
       "      <th>1</th>\n",
       "      <td>Australia</td>\n",
       "      <td>1957</td>\n",
       "      <td>9712569.0</td>\n",
       "      <td>Oceania</td>\n",
       "    </tr>\n",
       "    <tr>\n",
       "      <th>4</th>\n",
       "      <td>France</td>\n",
       "      <td>1957</td>\n",
       "      <td>44310863.0</td>\n",
       "      <td>Europe</td>\n",
       "    </tr>\n",
       "    <tr>\n",
       "      <th>0</th>\n",
       "      <td>Afghanistan</td>\n",
       "      <td>1952</td>\n",
       "      <td>8425333.0</td>\n",
       "      <td>Asia</td>\n",
       "    </tr>\n",
       "    <tr>\n",
       "      <th>3</th>\n",
       "      <td>China</td>\n",
       "      <td>1957</td>\n",
       "      <td>637408000.0</td>\n",
       "      <td>Asia</td>\n",
       "    </tr>\n",
       "    <tr>\n",
       "      <th>5</th>\n",
       "      <td>India</td>\n",
       "      <td>1952</td>\n",
       "      <td>372000000.0</td>\n",
       "      <td>Asia</td>\n",
       "    </tr>\n",
       "    <tr>\n",
       "      <th>2</th>\n",
       "      <td>Brazil</td>\n",
       "      <td>1962</td>\n",
       "      <td>76039390.0</td>\n",
       "      <td>Americas</td>\n",
       "    </tr>\n",
       "    <tr>\n",
       "      <th>7</th>\n",
       "      <td>United States</td>\n",
       "      <td>1957</td>\n",
       "      <td>171984000.0</td>\n",
       "      <td>Americas</td>\n",
       "    </tr>\n",
       "    <tr>\n",
       "      <th>6</th>\n",
       "      <td>South Africa</td>\n",
       "      <td>1966</td>\n",
       "      <td>NaN</td>\n",
       "      <td>Africa</td>\n",
       "    </tr>\n",
       "  </tbody>\n",
       "</table>\n",
       "</div>"
      ],
      "text/plain": [
       "         Country  Year   Population Continent\n",
       "1      Australia  1957    9712569.0   Oceania\n",
       "4         France  1957   44310863.0    Europe\n",
       "0    Afghanistan  1952    8425333.0      Asia\n",
       "3          China  1957  637408000.0      Asia\n",
       "5          India  1952  372000000.0      Asia\n",
       "2         Brazil  1962   76039390.0  Americas\n",
       "7  United States  1957  171984000.0  Americas\n",
       "6   South Africa  1966          NaN    Africa"
      ]
     },
     "execution_count": 73,
     "metadata": {},
     "output_type": "execute_result"
    }
   ],
   "source": [
    "## Country, year, Population, continent\n",
    "\n",
    "population_list = [['Afghanistan', 1952, 8425333, 'Asia'],\n",
    "            ['Australia', 1957, 9712569, 'Oceania'],\n",
    "            ['Brazil', 1962, 76039390, 'Americas'],\n",
    "            ['China', 1957, 637408000, 'Asia'],\n",
    "            ['France', 1957, 44310863, 'Europe'],\n",
    "            ['India', 1952, 3.72e+08, 'Asia'],\n",
    "            ['South Africa', 1966, np.nan, 'Africa'],\n",
    "            ['United States', 1957, 171984000, 'Americas']]\n",
    "\n",
    "df = pd.DataFrame(population_list, columns = [\"Country\", \"Year\", \"Population\",\"Continent\"])\n",
    "#print(df)\n",
    "\n",
    "##NumPy no longer uses NaN but nan\n",
    "\n",
    "df.sort_values(by = [\"Continent\"], inplace= True, ascending = False)\n",
    "## this does the same thing\n",
    "##this version is redeclaring a variable\n",
    "## df = df.sort_values(by = [\"Continent\"], inplace = Falses)\n",
    "#by and inplace are arguments of the sort_values itself\n",
    "#by sorts by a string we declare\n",
    "# in this exmaple it is by the string \"Continent\n",
    "# inplace = True, tells it to save itself\n",
    "#inplace = False, will not save it, will sort for purpose of the function\n",
    "#will not save the sorted dataframe\n",
    "#sort_values is our function from Python\n",
    "# to do in descending order add the argument ascending with boolean False\n",
    "#print(df)\n",
    "### pulls out nan values \n",
    "df.sort_values(by = [\"Population\"], inplace = True, na_position = \"last\")\n",
    "#print(df)\n",
    "## and also can edit which is ascending a->Z or z - > a \n",
    "df.sort_values(by = [\"Continent\", \"Country\"], inplace = True, ascending=[False, True])\n",
    "print(df)\n",
    "df"
   ]
  },
  {
   "cell_type": "code",
   "execution_count": 77,
   "metadata": {},
   "outputs": [
    {
     "data": {
      "text/html": [
       "<div>\n",
       "<style scoped>\n",
       "    .dataframe tbody tr th:only-of-type {\n",
       "        vertical-align: middle;\n",
       "    }\n",
       "\n",
       "    .dataframe tbody tr th {\n",
       "        vertical-align: top;\n",
       "    }\n",
       "\n",
       "    .dataframe thead th {\n",
       "        text-align: right;\n",
       "    }\n",
       "</style>\n",
       "<table border=\"1\" class=\"dataframe\">\n",
       "  <thead>\n",
       "    <tr style=\"text-align: right;\">\n",
       "      <th></th>\n",
       "      <th>Name</th>\n",
       "      <th>Height</th>\n",
       "      <th>Industry</th>\n",
       "      <th>Favorite Food</th>\n",
       "    </tr>\n",
       "  </thead>\n",
       "  <tbody>\n",
       "    <tr>\n",
       "      <th>0</th>\n",
       "      <td>Melody</td>\n",
       "      <td>4'10\"</td>\n",
       "      <td>Tech</td>\n",
       "      <td>Salmon</td>\n",
       "    </tr>\n",
       "    <tr>\n",
       "      <th>1</th>\n",
       "      <td>Nate</td>\n",
       "      <td>5'11\"</td>\n",
       "      <td>Oil and Gas</td>\n",
       "      <td>Steak</td>\n",
       "    </tr>\n",
       "    <tr>\n",
       "      <th>2</th>\n",
       "      <td>Natassia</td>\n",
       "      <td>5'5\"</td>\n",
       "      <td>HVAC-R</td>\n",
       "      <td>Scampi</td>\n",
       "    </tr>\n",
       "    <tr>\n",
       "      <th>3</th>\n",
       "      <td>Amarnath</td>\n",
       "      <td>5',7\"</td>\n",
       "      <td>Government</td>\n",
       "      <td>Ramen</td>\n",
       "    </tr>\n",
       "    <tr>\n",
       "      <th>4</th>\n",
       "      <td>Hafsa</td>\n",
       "      <td>5,6\"</td>\n",
       "      <td>Automotive</td>\n",
       "      <td>Somali Cuisine</td>\n",
       "    </tr>\n",
       "  </tbody>\n",
       "</table>\n",
       "</div>"
      ],
      "text/plain": [
       "       Name Height     Industry   Favorite Food\n",
       "0    Melody  4'10\"         Tech          Salmon\n",
       "1      Nate  5'11\"  Oil and Gas           Steak\n",
       "2  Natassia   5'5\"       HVAC-R          Scampi\n",
       "3  Amarnath  5',7\"   Government           Ramen\n",
       "4     Hafsa   5,6\"   Automotive  Somali Cuisine"
      ]
     },
     "execution_count": 77,
     "metadata": {},
     "output_type": "execute_result"
    }
   ],
   "source": [
    "data = { \n",
    "        \"Name\" : [\"Melody\", \"Nate\", \"Natassia\", \"Amarnath\", \"Hafsa\"],\n",
    "        \"Height\" : [\"4'10\\\"\", \"5'11\\\"\", \"5'5\\\"\",\"5',7\\\"\", \"5,6\\\"\"],\n",
    "        \"Industry\" : [\"Tech\",\"Oil and Gas\",\"HVAC-R\",\"Government\", \"Automotive\"],\n",
    "        \"Favorite Food\" : [\"Salmon\",\"Steak\", \"Scampi\", \"Ramen\", 'Somali Cuisine']\n",
    "  }\n",
    "\n",
    "df = pd.DataFrame(data)\n",
    "df"
   ]
  },
  {
   "cell_type": "code",
   "execution_count": null,
   "metadata": {},
   "outputs": [
    {
     "data": {
      "text/html": [
       "<div>\n",
       "<style scoped>\n",
       "    .dataframe tbody tr th:only-of-type {\n",
       "        vertical-align: middle;\n",
       "    }\n",
       "\n",
       "    .dataframe tbody tr th {\n",
       "        vertical-align: top;\n",
       "    }\n",
       "\n",
       "    .dataframe thead th {\n",
       "        text-align: right;\n",
       "    }\n",
       "</style>\n",
       "<table border=\"1\" class=\"dataframe\">\n",
       "  <thead>\n",
       "    <tr style=\"text-align: right;\">\n",
       "      <th></th>\n",
       "      <th>Name</th>\n",
       "      <th>Height</th>\n",
       "      <th>Color</th>\n",
       "      <th>Industry</th>\n",
       "      <th>Favorite Food</th>\n",
       "      <th>City</th>\n",
       "    </tr>\n",
       "  </thead>\n",
       "  <tbody>\n",
       "    <tr>\n",
       "      <th>0</th>\n",
       "      <td>Melody</td>\n",
       "      <td>4'10\"</td>\n",
       "      <td>Pink</td>\n",
       "      <td>Tech</td>\n",
       "      <td>Salmon</td>\n",
       "      <td>Austin</td>\n",
       "    </tr>\n",
       "    <tr>\n",
       "      <th>1</th>\n",
       "      <td>Nate</td>\n",
       "      <td>5'11\"</td>\n",
       "      <td>Indigo Blue</td>\n",
       "      <td>Oil and Gas</td>\n",
       "      <td>Steak</td>\n",
       "      <td>Cassville</td>\n",
       "    </tr>\n",
       "    <tr>\n",
       "      <th>2</th>\n",
       "      <td>Natassia</td>\n",
       "      <td>5'5\"</td>\n",
       "      <td>Purple</td>\n",
       "      <td>HVAC-R</td>\n",
       "      <td>Scampi</td>\n",
       "      <td>St. Louis</td>\n",
       "    </tr>\n",
       "    <tr>\n",
       "      <th>3</th>\n",
       "      <td>Amarnath</td>\n",
       "      <td>5',7\"</td>\n",
       "      <td>Red</td>\n",
       "      <td>Government</td>\n",
       "      <td>Ramen</td>\n",
       "      <td>Boulder</td>\n",
       "    </tr>\n",
       "    <tr>\n",
       "      <th>4</th>\n",
       "      <td>Hafsa</td>\n",
       "      <td>5,6\"</td>\n",
       "      <td>Green</td>\n",
       "      <td>Automotive</td>\n",
       "      <td>Somali Cuisine</td>\n",
       "      <td>Kansas City</td>\n",
       "    </tr>\n",
       "  </tbody>\n",
       "</table>\n",
       "</div>"
      ],
      "text/plain": [
       "       Name Height        Color     Industry   Favorite Food         City\n",
       "0    Melody  4'10\"         Pink         Tech          Salmon       Austin\n",
       "1      Nate  5'11\"  Indigo Blue  Oil and Gas           Steak    Cassville\n",
       "2  Natassia   5'5\"       Purple       HVAC-R          Scampi    St. Louis\n",
       "3  Amarnath  5',7\"          Red   Government           Ramen      Boulder\n",
       "4     Hafsa   5,6\"        Green   Automotive  Somali Cuisine  Kansas City"
      ]
     },
     "execution_count": 79,
     "metadata": {},
     "output_type": "execute_result"
    }
   ],
   "source": [
    "cities = [\"Austin\", \"Cassville\", \"St. Louis\", \"Boulder\", \"Kansas City\"]\n",
    "df[\"City\"] = cities\n",
    "df\n",
    "#adds it on the end\n",
    "favoriteColor = [\"Pink\", \"Indigo Blue\", \"Purple\", \"Red\", \"Green\"]\n",
    "df.insert(2, \"Color\", favoriteColor, True)\n",
    "#True allows for duplicates in this insert\n",
    "#insert puts it as index position two, which was industry, \n",
    "df"
   ]
  },
  {
   "cell_type": "code",
   "execution_count": null,
   "metadata": {},
   "outputs": [
    {
     "data": {
      "text/html": [
       "<div>\n",
       "<style scoped>\n",
       "    .dataframe tbody tr th:only-of-type {\n",
       "        vertical-align: middle;\n",
       "    }\n",
       "\n",
       "    .dataframe tbody tr th {\n",
       "        vertical-align: top;\n",
       "    }\n",
       "\n",
       "    .dataframe thead th {\n",
       "        text-align: right;\n",
       "    }\n",
       "</style>\n",
       "<table border=\"1\" class=\"dataframe\">\n",
       "  <thead>\n",
       "    <tr style=\"text-align: right;\">\n",
       "      <th></th>\n",
       "      <th>Name</th>\n",
       "      <th>Height</th>\n",
       "      <th>Color</th>\n",
       "      <th>Industry</th>\n",
       "      <th>Favorite Food</th>\n",
       "      <th>City</th>\n",
       "      <th>Animal</th>\n",
       "    </tr>\n",
       "  </thead>\n",
       "  <tbody>\n",
       "    <tr>\n",
       "      <th>0</th>\n",
       "      <td>Melody</td>\n",
       "      <td>4'10\"</td>\n",
       "      <td>Pink</td>\n",
       "      <td>Tech</td>\n",
       "      <td>Salmon</td>\n",
       "      <td>Austin</td>\n",
       "      <td>Lion</td>\n",
       "    </tr>\n",
       "    <tr>\n",
       "      <th>1</th>\n",
       "      <td>Nate</td>\n",
       "      <td>5'11\"</td>\n",
       "      <td>Indigo Blue</td>\n",
       "      <td>Oil and Gas</td>\n",
       "      <td>Steak</td>\n",
       "      <td>Cassville</td>\n",
       "      <td>Dog</td>\n",
       "    </tr>\n",
       "    <tr>\n",
       "      <th>2</th>\n",
       "      <td>Natassia</td>\n",
       "      <td>5'5\"</td>\n",
       "      <td>Purple</td>\n",
       "      <td>HVAC-R</td>\n",
       "      <td>Scampi</td>\n",
       "      <td>St. Louis</td>\n",
       "      <td>Nastassia</td>\n",
       "    </tr>\n",
       "    <tr>\n",
       "      <th>3</th>\n",
       "      <td>Amarnath</td>\n",
       "      <td>5',7\"</td>\n",
       "      <td>Red</td>\n",
       "      <td>Government</td>\n",
       "      <td>Ramen</td>\n",
       "      <td>Boulder</td>\n",
       "      <td>Owl</td>\n",
       "    </tr>\n",
       "    <tr>\n",
       "      <th>4</th>\n",
       "      <td>Hafsa</td>\n",
       "      <td>5,6\"</td>\n",
       "      <td>Green</td>\n",
       "      <td>Automotive</td>\n",
       "      <td>Somali Cuisine</td>\n",
       "      <td>Kansas City</td>\n",
       "      <td>Panther</td>\n",
       "    </tr>\n",
       "  </tbody>\n",
       "</table>\n",
       "</div>"
      ],
      "text/plain": [
       "       Name Height        Color     Industry   Favorite Food         City  \\\n",
       "0    Melody  4'10\"         Pink         Tech          Salmon       Austin   \n",
       "1      Nate  5'11\"  Indigo Blue  Oil and Gas           Steak    Cassville   \n",
       "2  Natassia   5'5\"       Purple       HVAC-R          Scampi    St. Louis   \n",
       "3  Amarnath  5',7\"          Red   Government           Ramen      Boulder   \n",
       "4     Hafsa   5,6\"        Green   Automotive  Somali Cuisine  Kansas City   \n",
       "\n",
       "      Animal  \n",
       "0       Lion  \n",
       "1        Dog  \n",
       "2  Nastassia  \n",
       "3        Owl  \n",
       "4    Panther  "
      ]
     },
     "execution_count": 80,
     "metadata": {},
     "output_type": "execute_result"
    }
   ],
   "source": [
    "animals = [\"Lion\", \"Dog\", \"Nastassia\", \"Owl\", \"Panther\"]\n",
    "df = df.assign(Animal=animals)\n",
    "df\n",
    "###allows the string to be free floating, normally we are used to putting string into quotations"
   ]
  },
  {
   "cell_type": "code",
   "execution_count": 81,
   "metadata": {},
   "outputs": [
    {
     "data": {
      "text/html": [
       "<div>\n",
       "<style scoped>\n",
       "    .dataframe tbody tr th:only-of-type {\n",
       "        vertical-align: middle;\n",
       "    }\n",
       "\n",
       "    .dataframe tbody tr th {\n",
       "        vertical-align: top;\n",
       "    }\n",
       "\n",
       "    .dataframe thead th {\n",
       "        text-align: right;\n",
       "    }\n",
       "</style>\n",
       "<table border=\"1\" class=\"dataframe\">\n",
       "  <thead>\n",
       "    <tr style=\"text-align: right;\">\n",
       "      <th></th>\n",
       "      <th>Name</th>\n",
       "      <th>Height</th>\n",
       "      <th>Color</th>\n",
       "      <th>Industry</th>\n",
       "      <th>Favorite Food</th>\n",
       "      <th>City</th>\n",
       "      <th>Animal</th>\n",
       "      <th>Sport</th>\n",
       "    </tr>\n",
       "  </thead>\n",
       "  <tbody>\n",
       "    <tr>\n",
       "      <th>0</th>\n",
       "      <td>Melody</td>\n",
       "      <td>4'10\"</td>\n",
       "      <td>Pink</td>\n",
       "      <td>Tech</td>\n",
       "      <td>Salmon</td>\n",
       "      <td>Austin</td>\n",
       "      <td>Lion</td>\n",
       "      <td>Tennis</td>\n",
       "    </tr>\n",
       "    <tr>\n",
       "      <th>1</th>\n",
       "      <td>Nate</td>\n",
       "      <td>5'11\"</td>\n",
       "      <td>Indigo Blue</td>\n",
       "      <td>Oil and Gas</td>\n",
       "      <td>Steak</td>\n",
       "      <td>Cassville</td>\n",
       "      <td>Dog</td>\n",
       "      <td>Boxing</td>\n",
       "    </tr>\n",
       "    <tr>\n",
       "      <th>2</th>\n",
       "      <td>Natassia</td>\n",
       "      <td>5'5\"</td>\n",
       "      <td>Purple</td>\n",
       "      <td>HVAC-R</td>\n",
       "      <td>Scampi</td>\n",
       "      <td>St. Louis</td>\n",
       "      <td>Nastassia</td>\n",
       "      <td>Kickboxing</td>\n",
       "    </tr>\n",
       "    <tr>\n",
       "      <th>3</th>\n",
       "      <td>Amarnath</td>\n",
       "      <td>5',7\"</td>\n",
       "      <td>Red</td>\n",
       "      <td>Government</td>\n",
       "      <td>Ramen</td>\n",
       "      <td>Boulder</td>\n",
       "      <td>Owl</td>\n",
       "      <td>Pickle Ball</td>\n",
       "    </tr>\n",
       "    <tr>\n",
       "      <th>4</th>\n",
       "      <td>Hafsa</td>\n",
       "      <td>5,6\"</td>\n",
       "      <td>Green</td>\n",
       "      <td>Automotive</td>\n",
       "      <td>Somali Cuisine</td>\n",
       "      <td>Kansas City</td>\n",
       "      <td>Panther</td>\n",
       "      <td>Tennis</td>\n",
       "    </tr>\n",
       "  </tbody>\n",
       "</table>\n",
       "</div>"
      ],
      "text/plain": [
       "       Name Height        Color     Industry   Favorite Food         City  \\\n",
       "0    Melody  4'10\"         Pink         Tech          Salmon       Austin   \n",
       "1      Nate  5'11\"  Indigo Blue  Oil and Gas           Steak    Cassville   \n",
       "2  Natassia   5'5\"       Purple       HVAC-R          Scampi    St. Louis   \n",
       "3  Amarnath  5',7\"          Red   Government           Ramen      Boulder   \n",
       "4     Hafsa   5,6\"        Green   Automotive  Somali Cuisine  Kansas City   \n",
       "\n",
       "      Animal        Sport  \n",
       "0       Lion       Tennis  \n",
       "1        Dog       Boxing  \n",
       "2  Nastassia   Kickboxing  \n",
       "3        Owl  Pickle Ball  \n",
       "4    Panther       Tennis  "
      ]
     },
     "execution_count": 81,
     "metadata": {},
     "output_type": "execute_result"
    }
   ],
   "source": [
    "sport = {\"Melody\" :\"Tennis\",\n",
    "         \"Nate\" : \"Boxing\", \n",
    "         \"Natassia\" : \"Kickboxing\", \n",
    "         \"Amarnath\" : \"Pickle Ball\", \n",
    "         \"Hafsa\" : \"Tennis\" }\n",
    "\n",
    "df[\"Sport\"] = df[\"Name\"].map(sport)\n",
    "#map function will map series according to the column\n",
    "#it willtake name, look for name in the data frame, it will take the key pair and add sport and then add the value to that key\n",
    "df"
   ]
  },
  {
   "cell_type": "code",
   "execution_count": 96,
   "metadata": {},
   "outputs": [
    {
     "name": "stdout",
     "output_type": "stream",
     "text": [
      "     Duration  Pulse  Maxpulse  Calories\n",
      "0          60    110       130     409.1\n",
      "1          60    117       145     479.0\n",
      "2          60    103       135     340.0\n",
      "3          45    109       175     282.4\n",
      "4          45    117       148     406.0\n",
      "5          60    102       127     300.0\n",
      "6          60    110       136     374.0\n",
      "7          45    104       134     253.3\n",
      "8          30    109       133     195.1\n",
      "9          60     98       124     269.0\n",
      "10         60    103       147     329.3\n",
      "11         60    100       120     250.7\n",
      "12         60    106       128     345.3\n",
      "13         60    104       132     379.3\n",
      "14         60     98       123     275.0\n",
      "15         60     98       120     215.2\n",
      "16         60    100       120     300.0\n",
      "17         45     90       112       NaN\n",
      "18         60    103       123     323.0\n",
      "19         45     97       125     243.0\n",
      "20         60    108       131     364.2\n",
      "21         45    100       119     282.0\n",
      "22         60    130       101     300.0\n",
      "23         45    105       132     246.0\n",
      "24         60    102       126     334.5\n",
      "25         60    100       120     250.0\n",
      "26         60     92       118     241.0\n",
      "27         60    103       132       NaN\n",
      "28         60    100       132     280.0\n",
      "29         60    102       129     380.3\n",
      "30         60     92       115     243.0\n",
      "31         45     90       112     180.1\n",
      "32         60    101       124     299.0\n",
      "33         60     93       113     223.0\n",
      "34         60    107       136     361.0\n",
      "35         60    114       140     415.0\n",
      "36         60    102       127     300.0\n",
      "37         60    100       120     300.0\n",
      "38         60    100       120     300.0\n",
      "39         45    104       129     266.0\n",
      "40         45     90       112     180.1\n",
      "41         60     98       126     286.0\n",
      "42         60    100       122     329.4\n",
      "43         60    111       138     400.0\n",
      "44         60    111       131     397.0\n",
      "45         60     99       119     273.0\n",
      "46         60    109       153     387.6\n",
      "47         45    111       136     300.0\n",
      "48         45    108       129     298.0\n",
      "49         60    111       139     397.6\n",
      "50         60    107       136     380.2\n",
      "51         80    123       146     643.1\n",
      "52         60    106       130     263.0\n",
      "53         60    118       151     486.0\n",
      "54         30    136       175     238.0\n",
      "55         60    121       146     450.7\n",
      "56         60    118       121     413.0\n",
      "57         45    115       144     305.0\n",
      "58         20    153       172     226.4\n",
      "59         45    123       152     321.0\n",
      "60        210    108       160    1376.0\n",
      "61        160    110       137    1034.4\n",
      "62        160    109       135     853.0\n",
      "63         45    118       141     341.0\n",
      "64         20    110       130     131.4\n",
      "65        180     90       130     800.4\n",
      "66        150    105       135     873.4\n",
      "67        150    107       130     816.0\n",
      "68         20    106       136     110.4\n",
      "69        300    108       143    1500.2\n",
      "70        150     97       129    1115.0\n",
      "71         60    109       153     387.6\n",
      "72         90    100       127     700.0\n",
      "73        150     97       127     953.2\n",
      "74         45    114       146     304.0\n",
      "75         90     98       125     563.2\n",
      "76         45    105       134     251.0\n",
      "77         45    110       141     300.0\n",
      "78        120    100       130     500.4\n",
      "79        270    100       131    1729.0\n",
      "80         30    159       182     319.2\n",
      "81         45    149       169     344.0\n",
      "82         30    103       139     151.1\n",
      "83        120    100       130     500.0\n",
      "84         45    100       120     225.3\n",
      "85         30    151       170     300.0\n",
      "86         45    102       136     234.0\n",
      "87        120    100       157    1000.1\n",
      "88         45    129       103     242.0\n",
      "89         20     83       107      50.3\n",
      "90        180    101       127     600.1\n",
      "91         45    107       137       NaN\n",
      "92         30     90       107     105.3\n",
      "93         15     80       100      50.5\n",
      "94         20    150       171     127.4\n",
      "95         20    151       168     229.4\n",
      "96         30     95       128     128.2\n",
      "97         25    152       168     244.2\n",
      "98         30    109       131     188.2\n",
      "99         90     93       124     604.1\n",
      "100        20     95       112      77.7\n",
      "101        90     90       110     500.0\n",
      "102        90     90       100     500.0\n",
      "103        90     90       100     500.4\n",
      "104        30     92       108      92.7\n",
      "105        30     93       128     124.0\n",
      "106       180     90       120     800.3\n",
      "107        30     90       120      86.2\n",
      "108        90     90       120     500.3\n",
      "109       210    137       184    1860.4\n",
      "110        60    102       124     325.2\n",
      "111        45    107       124     275.0\n",
      "112        15    124       139     124.2\n",
      "113        45    100       120     225.3\n",
      "114        60    108       131     367.6\n",
      "115        60    108       151     351.7\n",
      "116        60    116       141     443.0\n",
      "117        60     97       122     277.4\n",
      "118        60    105       125       NaN\n",
      "119        60    103       124     332.7\n",
      "120        30    112       137     193.9\n",
      "121        45    100       120     100.7\n",
      "122        60    119       169     336.7\n",
      "123        60    107       127     344.9\n",
      "124        60    111       151     368.5\n",
      "125        60     98       122     271.0\n",
      "126        60     97       124     275.3\n",
      "127        60    109       127     382.0\n",
      "128        90     99       125     466.4\n",
      "129        60    114       151     384.0\n",
      "130        60    104       134     342.5\n",
      "131        60    107       138     357.5\n",
      "132        60    103       133     335.0\n",
      "133        60    106       132     327.5\n",
      "134        60    103       136     339.0\n",
      "135        20    136       156     189.0\n",
      "136        45    117       143     317.7\n",
      "137        45    115       137     318.0\n",
      "138        45    113       138     308.0\n",
      "139        20    141       162     222.4\n",
      "140        60    108       135     390.0\n",
      "141        60     97       127       NaN\n",
      "142        45    100       120     250.4\n",
      "143        45    122       149     335.4\n",
      "144        60    136       170     470.2\n",
      "145        45    106       126     270.8\n",
      "146        60    107       136     400.0\n",
      "147        60    112       146     361.9\n",
      "148        30    103       127     185.0\n",
      "149        60    110       150     409.4\n",
      "150        60    106       134     343.0\n",
      "151        60    109       129     353.2\n",
      "152        60    109       138     374.0\n",
      "153        30    150       167     275.8\n",
      "154        60    105       128     328.0\n",
      "155        60    111       151     368.5\n",
      "156        60     97       131     270.4\n",
      "157        60    100       120     270.4\n",
      "158        60    114       150     382.8\n",
      "159        30     80       120     240.9\n",
      "160        30     85       120     250.4\n",
      "161        45     90       130     260.4\n",
      "162        45     95       130     270.0\n",
      "163        45    100       140     280.9\n",
      "164        60    105       140     290.8\n",
      "165        60    110       145     300.0\n",
      "166        60    115       145     310.2\n",
      "167        75    120       150     320.4\n",
      "168        75    125       150     330.4\n",
      "    Duration  Pulse  Maxpulse  Calories\n",
      "0         60    110       130     409.1\n",
      "1         60    117       145     479.0\n",
      "2         60    103       135     340.0\n",
      "3         45    109       175     282.4\n",
      "4         45    117       148     406.0\n",
      "5         60    102       127     300.0\n",
      "6         60    110       136     374.0\n",
      "7         45    104       134     253.3\n",
      "8         30    109       133     195.1\n",
      "9         60     98       124     269.0\n",
      "10        60    103       147     329.3\n",
      "11        60    100       120     250.7\n",
      "12        60    106       128     345.3\n",
      "13        60    104       132     379.3\n",
      "14        60     98       123     275.0\n",
      "     Duration  Pulse  Maxpulse  Calories\n",
      "159        30     80       120     240.9\n",
      "160        30     85       120     250.4\n",
      "161        45     90       130     260.4\n",
      "162        45     95       130     270.0\n",
      "163        45    100       140     280.9\n",
      "164        60    105       140     290.8\n",
      "165        60    110       145     300.0\n",
      "166        60    115       145     310.2\n",
      "167        75    120       150     320.4\n",
      "168        75    125       150     330.4\n",
      "<class 'pandas.core.frame.DataFrame'>\n",
      "RangeIndex: 169 entries, 0 to 168\n",
      "Data columns (total 4 columns):\n",
      " #   Column    Non-Null Count  Dtype  \n",
      "---  ------    --------------  -----  \n",
      " 0   Duration  169 non-null    int64  \n",
      " 1   Pulse     169 non-null    int64  \n",
      " 2   Maxpulse  169 non-null    int64  \n",
      " 3   Calories  164 non-null    float64\n",
      "dtypes: float64(1), int64(3)\n",
      "memory usage: 5.4 KB\n"
     ]
    }
   ],
   "source": [
    "#print(od.options.display.max_rows)\n",
    "pd.options.display.max_rows = 60\n",
    "\n",
    "df = pd.read_csv(r\"/Users/Toki3Duckie/code/SavvyCoders/DAP-Curriculum/Section05/resources/data.csv\")\n",
    "df\n",
    "print(df.to_string())\n",
    "#prints first 15\n",
    "print(df.head(15))\n",
    "#prints last ten or whatever you mark\n",
    "print(df.tail(10))\n",
    "df.info()"
   ]
  }
 ],
 "metadata": {
  "kernelspec": {
   "display_name": "Python 3",
   "language": "python",
   "name": "python3"
  },
  "language_info": {
   "codemirror_mode": {
    "name": "ipython",
    "version": 3
   },
   "file_extension": ".py",
   "mimetype": "text/x-python",
   "name": "python",
   "nbconvert_exporter": "python",
   "pygments_lexer": "ipython3",
   "version": "3.13.2"
  }
 },
 "nbformat": 4,
 "nbformat_minor": 2
}
