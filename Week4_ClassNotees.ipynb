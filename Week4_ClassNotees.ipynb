{
 "cells": [
  {
   "cell_type": "markdown",
   "metadata": {},
   "source": [
    "# Monday March 24th\n",
    "\n",
    "## Modules, packages, and libraries are generally used interchangeably as terminology\n",
    "\n",
    "Module A collection of simialr code or functions that hsa similar functionality.\n",
    "\n",
    "Packages Groups of similar modules\n",
    "\n",
    "Libraries Group of packages and modules\n",
    "\n",
    "Frameworks Templates, basic structure\n",
    "\n",
    "Note: Jupyter Notebook is like an IDE, integrated development environment, where python is a package\n",
    "\n",
    "Purpose of all four of these - someone has done the work to write this code to build this functionality outside of the base python langauge, if they did not exist you would have to create this code yourself\n",
    "\n",
    "Sets of reusable code that you can pull in that was written elsewhere which you have a need to use\n",
    "\n",
    "Syntax to import a package\n",
    "\n",
    "import to bring in the package\n",
    "\n",
    "import math\n",
    "(to pull in the package) (package name)\n",
    "\n",
    "Always pull up documentation on a package or module to determine how to use it before importing\n",
    "\n",
    "Alot of the time, you can alias when importing packages\n",
    "\n",
    "Packages use memory, i.e. space on your computer"
   ]
  },
  {
   "cell_type": "code",
   "execution_count": null,
   "metadata": {},
   "outputs": [],
   "source": [
    "#Packages\n",
    "#math\n",
    "#random\n",
    "#datetime\n",
    "\n",
    "#syntax to import"
   ]
  },
  {
   "cell_type": "code",
   "execution_count": null,
   "metadata": {},
   "outputs": [],
   "source": [
    "import math\n",
    "import random\n",
    "import datetime "
   ]
  },
  {
   "cell_type": "code",
   "execution_count": null,
   "metadata": {},
   "outputs": [],
   "source": [
    "print(math.ceil(2.5))\n",
    "print(math.floor(2.5))"
   ]
  },
  {
   "cell_type": "code",
   "execution_count": null,
   "metadata": {},
   "outputs": [],
   "source": [
    "random.randint(1, 100)\n",
    "\n",
    "#returned random integer in a range (), you set the range"
   ]
  },
  {
   "cell_type": "code",
   "execution_count": null,
   "metadata": {},
   "outputs": [],
   "source": [
    "#creating an alias for a packaage\n",
    "\n",
    "import datetime as dt\n",
    "import pandas as pd\n",
    "import numpy as np"
   ]
  },
  {
   "cell_type": "code",
   "execution_count": null,
   "metadata": {},
   "outputs": [],
   "source": [
    "#without an alias\n",
    "#print(datetime.datetime.now())\n"
   ]
  },
  {
   "cell_type": "code",
   "execution_count": null,
   "metadata": {},
   "outputs": [],
   "source": [
    "# function, class, action\n",
    "\n",
    "print(dt.datetime.now())\n",
    "print(dt.date.today())\n",
    "\n",
    "#class datetime, could import a single item or class from that module"
   ]
  },
  {
   "cell_type": "code",
   "execution_count": null,
   "metadata": {},
   "outputs": [],
   "source": [
    "# how do you print just the time?"
   ]
  },
  {
   "cell_type": "code",
   "execution_count": null,
   "metadata": {},
   "outputs": [],
   "source": [
    "from datetime import date"
   ]
  },
  {
   "cell_type": "code",
   "execution_count": null,
   "metadata": {},
   "outputs": [],
   "source": [
    "today= date.today()\n",
    "print(today.year)\n",
    "print(today.month)\n",
    "print(today.day)"
   ]
  },
  {
   "cell_type": "code",
   "execution_count": null,
   "metadata": {},
   "outputs": [],
   "source": [
    "import datetime as dt\n",
    "\n",
    "current_time = dt.datetime.now()\n",
    "#print(current time)\n",
    "print(current_time.strftime(\"%I:%M:%S %p\"))"
   ]
  },
  {
   "cell_type": "code",
   "execution_count": null,
   "metadata": {},
   "outputs": [],
   "source": [
    "import math"
   ]
  },
  {
   "cell_type": "code",
   "execution_count": null,
   "metadata": {},
   "outputs": [],
   "source": [
    "#rounds up\n",
    "window = math.ceil(2.5)\n",
    "#rounds down\n",
    "wall = math.floor(2.5)\n",
    "\n",
    "print(window)\n",
    "print(wall)\n",
    "\n",
    "#absolute value\n",
    "\n",
    "print(math.fabs(-66.43))\n",
    "print(\"absolute value:   \", math.fabs(-66.43))\n",
    "#base python also has absolute value without the math module\n",
    "print(\"absolute value:   \", abs(-66.43))\n",
    "\n",
    "#list of numbers\n",
    "\n",
    "numlist = [1.3, 1.9, 4, 8.4]\n",
    "\n",
    "print(math.fsum(numlist))\n",
    "\n",
    "# square root\n",
    "\n",
    "print(math.sqrt(225))\n",
    "\n",
    "print(math.pi)"
   ]
  },
  {
   "cell_type": "code",
   "execution_count": null,
   "metadata": {},
   "outputs": [],
   "source": [
    "import random"
   ]
  },
  {
   "cell_type": "code",
   "execution_count": null,
   "metadata": {},
   "outputs": [],
   "source": [
    "fruits = [\"apple\", \"pear\", \"orange\", \"mango\"]"
   ]
  },
  {
   "cell_type": "code",
   "execution_count": null,
   "metadata": {},
   "outputs": [],
   "source": [
    "random.shuffle(fruits)\n",
    "print(fruits)"
   ]
  },
  {
   "cell_type": "code",
   "execution_count": null,
   "metadata": {},
   "outputs": [],
   "source": [
    "print(random.choice(fruits))"
   ]
  },
  {
   "cell_type": "markdown",
   "metadata": {},
   "source": [
    "# Exception Handling\n",
    "\n",
    "## exception statements can be used to identify errors\n",
    "\n",
    "try statement\n",
    "except which handles the error\n",
    "\n",
    "else executes when there is no error\n",
    "finally regardeless of try or except\n",
    "\n",
    "when you define a try you always need an except\n",
    "\n",
    "try most be at left most indent level\n",
    "\n",
    "If you wish to handle an error in a more graceful manner (can define how the error is relayed back to you)\n",
    "\n",
    "An undefined variable is an ame error\n",
    "\n",
    "Key not found in a dictionary because it does not exist\n",
    "\n",
    "## Defining a function\n",
    "\n",
    "def my_addiction_function():\n",
    "\n",
    "    print(x+y)\n",
    "\n",
    "parameters are x and y\n",
    "for integers or numbers\n",
    "function is the one I have defined, my_addiction_function"
   ]
  },
  {
   "cell_type": "code",
   "execution_count": null,
   "metadata": {},
   "outputs": [],
   "source": [
    "#normally would get an error\n",
    "\n",
    "print(c)"
   ]
  },
  {
   "cell_type": "code",
   "execution_count": null,
   "metadata": {},
   "outputs": [],
   "source": [
    "#this lets us set a respose for our errors\n",
    "\n",
    "c = 1\n",
    "try:\n",
    "    print(c)\n",
    "except:\n",
    "    print(\"an exception occured\")\n",
    "else:\n",
    "    print(\"runs when no error occurs\")\n",
    "finally:\n",
    "    print(\"regardless of error or success\")"
   ]
  },
  {
   "cell_type": "code",
   "execution_count": null,
   "metadata": {},
   "outputs": [
    {
     "name": "stdout",
     "output_type": "stream",
     "text": [
      "A NameError exception occured\n",
      "regardless of error or success\n"
     ]
    }
   ],
   "source": [
    "#c = 1\n",
    "# whatever exception it hits first will exit and goto the else and finally block\n",
    "try:\n",
    "    #mydictionary = {\"fruit:\"apple\"}\n",
    "    #myfruits = [\"apple\",\"cookie\"]\n",
    "    #print(myfruits[2])\n",
    "    print(cookie)\n",
    "except NameError:\n",
    "    print(\"A NameError exception occured\")\n",
    "except KeyError:\n",
    "    print(\"A KeyError exception occured\")\n",
    "except:\n",
    "    print(\"this is generic exception\")\n",
    "else:\n",
    "    print(\"runs when no error occurs\")\n",
    "finally:\n",
    "    print(\"regardless of error or success\")"
   ]
  },
  {
   "cell_type": "code",
   "execution_count": 54,
   "metadata": {},
   "outputs": [],
   "source": [
    "def my_addiction_function(x,y):\n",
    "    print(x+y)"
   ]
  },
  {
   "cell_type": "code",
   "execution_count": null,
   "metadata": {},
   "outputs": [],
   "source": [
    "def my_addiction_function(x:int,y:int):\n",
    "#pseudo code is plain english just notes\n",
    "    #check x to see if it is an integer\n",
    "    if type(x) is int and type(y) is int:\n",
    "    #check y to see if it is an integer\n",
    "        print(x+y)\n",
    "    else:\n",
    "        print (\"please pass two integers\")"
   ]
  },
  {
   "cell_type": "code",
   "execution_count": 61,
   "metadata": {},
   "outputs": [
    {
     "name": "stdout",
     "output_type": "stream",
     "text": [
      "8\n",
      "please pass two integers\n"
     ]
    }
   ],
   "source": [
    "my_addiction_function(3,5)\n",
    "\n",
    "## cannot add a string to an integer\n",
    "\n",
    "my_addiction_function(\"3\",\"5\")\n",
    "\n",
    "#but can combine strings"
   ]
  },
  {
   "cell_type": "code",
   "execution_count": 71,
   "metadata": {},
   "outputs": [],
   "source": [
    "def my_input_calc():\n",
    "    x = int(input(\"please give a number\"))\n",
    "    y = int(input(\"Please give a number\"))\n",
    "\n",
    "    print(x + y)"
   ]
  },
  {
   "cell_type": "code",
   "execution_count": null,
   "metadata": {},
   "outputs": [],
   "source": [
    "## can also set a default parameter\n",
    "\n",
    "def my_addiction_function(x:int,y=19):\n",
    "#pseudo code is plain english just notes\n",
    "    #check x to see if it is an integer\n",
    "    if type(x) is int and type(y) is int:\n",
    "    #check y to see if it is an integer\n",
    "        print(x+y)\n",
    "    else:\n",
    "        print (\"please pass two integers\")"
   ]
  },
  {
   "cell_type": "code",
   "execution_count": 70,
   "metadata": {},
   "outputs": [
    {
     "name": "stdout",
     "output_type": "stream",
     "text": [
      "19\n"
     ]
    }
   ],
   "source": [
    "my_addiction_function(0)"
   ]
  },
  {
   "cell_type": "code",
   "execution_count": null,
   "metadata": {},
   "outputs": [],
   "source": [
    "## can also set a default parameter\n",
    "#storing the resulting value\n",
    "\n",
    "def my_addiction_function(x:int,y=19):\n",
    "#pseudo code is plain english just notes\n",
    "    #check x to see if it is an integer\n",
    "    if type(x) is int and type(y) is int:\n",
    "    #check y to see if it is an integer\n",
    "        return x + y\n",
    "    else:\n",
    "        print (\"please pass two integers\")"
   ]
  },
  {
   "cell_type": "code",
   "execution_count": 75,
   "metadata": {},
   "outputs": [],
   "source": [
    "x = my_addiction_function(0)"
   ]
  },
  {
   "cell_type": "code",
   "execution_count": 76,
   "metadata": {},
   "outputs": [
    {
     "name": "stdout",
     "output_type": "stream",
     "text": [
      "19\n"
     ]
    }
   ],
   "source": [
    "print(x)"
   ]
  },
  {
   "cell_type": "markdown",
   "metadata": {},
   "source": [
    "# Scope of Variable\n",
    "\n",
    "## Variable Scoping\n",
    "\n",
    "    1. **Global Variable**  \n",
    "    2. **Local Variable**\n",
    "    \n",
    "## Lammbda\n",
    "\n",
    "define like you would a variable\n"
   ]
  },
  {
   "cell_type": "code",
   "execution_count": null,
   "metadata": {},
   "outputs": [
    {
     "name": "stdout",
     "output_type": "stream",
     "text": [
      "6\n"
     ]
    }
   ],
   "source": [
    "\n",
    "\n",
    "def variable_scope(param1, param2):\n",
    "    innervar = param1 + param2\n",
    "    print(innervar)\n",
    "    return innervar\n",
    "t = variable_scope(2,4)\n",
    "\n",
    "\n",
    "#print(innervar)\n",
    "#cannot use the print variable outside of the function, so when print outside get a name error"
   ]
  },
  {
   "cell_type": "code",
   "execution_count": null,
   "metadata": {},
   "outputs": [
    {
     "name": "stdout",
     "output_type": "stream",
     "text": [
      "11\n"
     ]
    }
   ],
   "source": [
    "my_first_lambda = lambda x , y : x + y\n",
    "\n",
    "print(my_first_lambda(5,6))"
   ]
  },
  {
   "cell_type": "code",
   "execution_count": 81,
   "metadata": {},
   "outputs": [
    {
     "name": "stdout",
     "output_type": "stream",
     "text": [
      "UPPERCASE'\n",
      "LOWERCASE\n"
     ]
    }
   ],
   "source": [
    "my_second_lambda = lambda string : string.upper()\n",
    "\n",
    "def my_sec_func(string):\n",
    "    return string.upper()\n",
    "#function defintion version of this lambda equation\n",
    "\n",
    "print(my_second_lambda(\"uppercase'\"))\n",
    "print(my_sec_func(\"lowercase\"))"
   ]
  }
 ],
 "metadata": {
  "kernelspec": {
   "display_name": "Python 3",
   "language": "python",
   "name": "python3"
  },
  "language_info": {
   "codemirror_mode": {
    "name": "ipython",
    "version": 3
   },
   "file_extension": ".py",
   "mimetype": "text/x-python",
   "name": "python",
   "nbconvert_exporter": "python",
   "pygments_lexer": "ipython3",
   "version": "3.13.2"
  }
 },
 "nbformat": 4,
 "nbformat_minor": 2
}
