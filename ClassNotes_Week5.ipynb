{
 "cells": [
  {
   "cell_type": "markdown",
   "metadata": {},
   "source": [
    "# Monday March 31st 2025\n",
    "\n"
   ]
  },
  {
   "cell_type": "code",
   "execution_count": 1,
   "metadata": {},
   "outputs": [],
   "source": [
    "import pandas as pd\n",
    "import openpyxl"
   ]
  },
  {
   "cell_type": "code",
   "execution_count": null,
   "metadata": {},
   "outputs": [],
   "source": [
    "file = r\"/Users/Toki3Duckie/code/SavvyCoders/DAP-Curriculum/Section05/resources/sample_winterathletes.xlsx\""
   ]
  },
  {
   "cell_type": "code",
   "execution_count": null,
   "metadata": {},
   "outputs": [],
   "source": [
    "df = pd.read_excel(file, sheet_name = \"Athletes\", skiprows = 2)\n",
    "\n",
    "df"
   ]
  },
  {
   "cell_type": "code",
   "execution_count": null,
   "metadata": {},
   "outputs": [],
   "source": [
    "import sqlite3"
   ]
  },
  {
   "cell_type": "code",
   "execution_count": null,
   "metadata": {},
   "outputs": [],
   "source": [
    "sql_file = r\"/Users/Toki3Duckie/code/SavvyCoders/DAP-Curriculum/Section05/resources/PitchForkDatabase.sqlite\""
   ]
  },
  {
   "cell_type": "code",
   "execution_count": null,
   "metadata": {},
   "outputs": [],
   "source": [
    "connection = sqlite3.connect(sql_file)"
   ]
  },
  {
   "cell_type": "code",
   "execution_count": null,
   "metadata": {},
   "outputs": [],
   "source": [
    "query = \"Select * from Artists\""
   ]
  },
  {
   "cell_type": "code",
   "execution_count": null,
   "metadata": {},
   "outputs": [],
   "source": [
    "sql_table = pd.read_sql_query(query, con = connection)"
   ]
  },
  {
   "cell_type": "code",
   "execution_count": null,
   "metadata": {},
   "outputs": [],
   "source": [
    "sql_table"
   ]
  },
  {
   "cell_type": "code",
   "execution_count": null,
   "metadata": {},
   "outputs": [],
   "source": [
    "csv_file = r\"/Users/Toki3Duckie/code/SavvyCoders/DAP-Curriculum/Section05/resources/titanic.csv\""
   ]
  },
  {
   "cell_type": "code",
   "execution_count": null,
   "metadata": {},
   "outputs": [],
   "source": [
    "csv_data = pd.read_csv(csv_file)"
   ]
  },
  {
   "cell_type": "code",
   "execution_count": null,
   "metadata": {},
   "outputs": [],
   "source": [
    "csv_data"
   ]
  },
  {
   "cell_type": "code",
   "execution_count": null,
   "metadata": {},
   "outputs": [],
   "source": [
    "print(csv_data.columns)"
   ]
  },
  {
   "cell_type": "code",
   "execution_count": null,
   "metadata": {},
   "outputs": [],
   "source": [
    "newdf = csv_data[[\"Name\", \"Sex\", \"Age\", \"Cabin\"]]"
   ]
  },
  {
   "cell_type": "code",
   "execution_count": null,
   "metadata": {},
   "outputs": [],
   "source": [
    "newdf"
   ]
  },
  {
   "cell_type": "code",
   "execution_count": null,
   "metadata": {},
   "outputs": [],
   "source": [
    "#non null lets you know that there or may be missing values\n",
    "newdf.info()"
   ]
  },
  {
   "cell_type": "code",
   "execution_count": null,
   "metadata": {},
   "outputs": [],
   "source": [
    "newdf.to_csv(r\"newdf.csv\", index = False)\n",
    "\n",
    "#because will include the index in the new file if you do not set to false"
   ]
  },
  {
   "cell_type": "code",
   "execution_count": null,
   "metadata": {},
   "outputs": [],
   "source": [
    "# if wish to reset age from float to integer would need to make change\n",
    "#could remove the rows\n",
    "#could fill with random umer\n",
    "#would need to handle before can cast to an integer"
   ]
  },
  {
   "cell_type": "code",
   "execution_count": null,
   "metadata": {},
   "outputs": [],
   "source": [
    "#newdf[\"Age\"].fillna(0, inplace = True)\n",
    "#newdf[\"Age\"] = newdf[\"Age\"].astype(int)"
   ]
  },
  {
   "cell_type": "code",
   "execution_count": null,
   "metadata": {},
   "outputs": [],
   "source": [
    "newdf.head()"
   ]
  },
  {
   "cell_type": "code",
   "execution_count": null,
   "metadata": {},
   "outputs": [],
   "source": [
    "newdf.tail()"
   ]
  },
  {
   "cell_type": "code",
   "execution_count": null,
   "metadata": {},
   "outputs": [],
   "source": [
    "#alternative method to deal with na values\n",
    "\n",
    "#mean\n",
    "#median\n",
    "#mode\n",
    "\n",
    "#we will use mean"
   ]
  },
  {
   "cell_type": "code",
   "execution_count": null,
   "metadata": {},
   "outputs": [],
   "source": [
    "update_age = newdf[\"Age\"].mean()"
   ]
  },
  {
   "cell_type": "code",
   "execution_count": null,
   "metadata": {},
   "outputs": [],
   "source": [
    "print(update_age)"
   ]
  },
  {
   "cell_type": "code",
   "execution_count": null,
   "metadata": {},
   "outputs": [],
   "source": [
    "import math"
   ]
  },
  {
   "cell_type": "code",
   "execution_count": null,
   "metadata": {},
   "outputs": [],
   "source": [
    "update_age = math.ceil(update_age)"
   ]
  },
  {
   "cell_type": "code",
   "execution_count": null,
   "metadata": {},
   "outputs": [],
   "source": [
    "update_age"
   ]
  },
  {
   "cell_type": "code",
   "execution_count": null,
   "metadata": {},
   "outputs": [],
   "source": [
    "newdf[\"Age\"].fillna(update_age, inplace = True)"
   ]
  },
  {
   "cell_type": "code",
   "execution_count": null,
   "metadata": {},
   "outputs": [],
   "source": [
    "newdf.info()"
   ]
  },
  {
   "cell_type": "code",
   "execution_count": null,
   "metadata": {},
   "outputs": [],
   "source": [
    "newdf[\"Cabin\"].fillna(\"unknown\", inplace = True)\n",
    "\n",
    "#inplace = true changes the original data frame, so you do not need to create a new dataframe to store the changes\n",
    "# get a caveat because it does not like you editing a slice of the original csv\n"
   ]
  },
  {
   "cell_type": "code",
   "execution_count": null,
   "metadata": {},
   "outputs": [],
   "source": [
    "newdf.info()"
   ]
  },
  {
   "cell_type": "code",
   "execution_count": null,
   "metadata": {},
   "outputs": [],
   "source": [
    "#could also drop Null rows"
   ]
  },
  {
   "cell_type": "code",
   "execution_count": null,
   "metadata": {},
   "outputs": [],
   "source": [
    "date_file = r\"/Users/Toki3Duckie/code/SavvyCoders/DAP-Curriculum/Section05/resources/data1.csv\""
   ]
  },
  {
   "cell_type": "code",
   "execution_count": null,
   "metadata": {},
   "outputs": [],
   "source": [
    "df = pd.read_csv(date_file)"
   ]
  },
  {
   "cell_type": "code",
   "execution_count": null,
   "metadata": {},
   "outputs": [],
   "source": [
    "df"
   ]
  },
  {
   "cell_type": "code",
   "execution_count": null,
   "metadata": {},
   "outputs": [],
   "source": [
    "import datetime"
   ]
  },
  {
   "cell_type": "code",
   "execution_count": null,
   "metadata": {},
   "outputs": [],
   "source": [
    "#one column is a Series of data, so Date is a Series of the date1 csv file\n",
    "\n",
    "df[\"Date\"] = pd.to_datetime(df[\"Date\"], format = \"mixed\")"
   ]
  },
  {
   "cell_type": "code",
   "execution_count": null,
   "metadata": {},
   "outputs": [],
   "source": [
    "df"
   ]
  },
  {
   "cell_type": "code",
   "execution_count": null,
   "metadata": {},
   "outputs": [],
   "source": [
    "df.dropna(subset = [\"Date\"], inplace = True)"
   ]
  },
  {
   "cell_type": "code",
   "execution_count": null,
   "metadata": {},
   "outputs": [],
   "source": [
    "df\n"
   ]
  },
  {
   "cell_type": "code",
   "execution_count": null,
   "metadata": {},
   "outputs": [],
   "source": [
    "#fixing data with loc, location index or frame,  can pull out label, list, or single values\n",
    "df.loc[9, \"Duration\"] = 45\n",
    "print(df.tp_string())"
   ]
  },
  {
   "cell_type": "code",
   "execution_count": 4,
   "metadata": {},
   "outputs": [
    {
     "name": "stdout",
     "output_type": "stream",
     "text": [
      "Duration     120.0\n",
      "Pulse        108.0\n",
      "Maxpulse     160.0\n",
      "Calories    1376.0\n",
      "Name: 60, dtype: float64\n"
     ]
    }
   ],
   "source": [
    "#fixing data with a for loop\n",
    "\n",
    "df = pd.read_csv(r\"/Users/Toki3Duckie/code/SavvyCoders/DAP-Curriculum/Section05/resources/data.csv\")\n",
    "\n",
    "duration_series = df[\"Duration\"]\n",
    "#print(duration_series)\n",
    "\n",
    "# fo through every number 1 thru 168, and if duration is greater than 120 going to change to equal to 120\n",
    "for index, duration in enumerate(duration_series):\n",
    "    if duration > 120:\n",
    "        df.loc[index,\"Duration\"] = 120\n",
    "print(df.loc[60])"
   ]
  },
  {
   "cell_type": "code",
   "execution_count": 7,
   "metadata": {},
   "outputs": [
    {
     "name": "stdout",
     "output_type": "stream",
     "text": [
      "<class 'pandas.core.frame.DataFrame'>\n",
      "Index: 156 entries, 0 to 168\n",
      "Data columns (total 4 columns):\n",
      " #   Column    Non-Null Count  Dtype  \n",
      "---  ------    --------------  -----  \n",
      " 0   Duration  156 non-null    int64  \n",
      " 1   Pulse     156 non-null    int64  \n",
      " 2   Maxpulse  156 non-null    int64  \n",
      " 3   Calories  151 non-null    float64\n",
      "dtypes: float64(1), int64(3)\n",
      "memory usage: 10.2 KB\n",
      "None\n"
     ]
    }
   ],
   "source": [
    "#dropping items \n",
    "df = pd.read_csv(r\"/Users/Toki3Duckie/code/SavvyCoders/DAP-Curriculum/Section05/resources/data.csv\")\n",
    "#print(df.info())\n",
    "\n",
    "\n",
    "for x in df.index:\n",
    "    if df.loc[x, \"Duration\"] > 120:\n",
    "        df.drop(x, inplace =  True)\n",
    "\n",
    "print(df.info())"
   ]
  },
  {
   "cell_type": "code",
   "execution_count": null,
   "metadata": {},
   "outputs": [],
   "source": [
    "# if you wanted to drop a specific index or row in this case inedx 10\n",
    "\n",
    "df.drop([[10], inplace = Turue])"
   ]
  },
  {
   "cell_type": "code",
   "execution_count": null,
   "metadata": {},
   "outputs": [
    {
     "name": "stdout",
     "output_type": "stream",
     "text": [
      "0     False\n",
      "1     False\n",
      "2     False\n",
      "3     False\n",
      "4     False\n",
      "5     False\n",
      "6     False\n",
      "7     False\n",
      "8     False\n",
      "9     False\n",
      "10    False\n",
      "11    False\n",
      "13    False\n",
      "14    False\n",
      "dtype: bool\n"
     ]
    }
   ],
   "source": [
    "#Discovering and removing duplicates\n",
    "\n",
    "df = pd.read_csv(r\"/Users/Toki3Duckie/code/SavvyCoders/DAP-Curriculum/Section05/resources/data1.csv\")\n",
    "\n",
    "#tells you the duplicated lines/rows\n",
    "#print(df.duplicated())\n",
    "\n",
    "#which reveals only have one duplicate on index 12\n",
    "\n",
    "df.drop_duplicates(inplace = True)\n",
    "print(df.duplicated())\n",
    "\n",
    "# see now skips the index 12"
   ]
  },
  {
   "cell_type": "code",
   "execution_count": null,
   "metadata": {},
   "outputs": [
    {
     "name": "stdout",
     "output_type": "stream",
     "text": [
      "0     False\n",
      "1     False\n",
      "2     False\n",
      "3     False\n",
      "4     False\n",
      "5     False\n",
      "6     False\n",
      "7     False\n",
      "8     False\n",
      "9     False\n",
      "10    False\n",
      "11    False\n",
      "12    False\n",
      "13    False\n",
      "dtype: bool\n"
     ]
    }
   ],
   "source": [
    "#if wish to reset the index after such a change of deleting rows\n",
    "\n",
    "df.reset_index(inplace = True)\n",
    "print(df.duplicated())"
   ]
  },
  {
   "cell_type": "code",
   "execution_count": 15,
   "metadata": {},
   "outputs": [
    {
     "name": "stdout",
     "output_type": "stream",
     "text": [
      "   PassengerId  Survived  Pclass  \\\n",
      "0            1         0       3   \n",
      "1            2         1       1   \n",
      "2            3         1       3   \n",
      "3            4         1       1   \n",
      "4            5         0       3   \n",
      "\n",
      "                                                Name     Sex   Age  SibSp  \\\n",
      "0                            Braund, Mr. Owen Harris    male  22.0      1   \n",
      "1  Cumings, Mrs. John Bradley (Florence Briggs Th...  female  38.0      1   \n",
      "2                             Heikkinen, Miss. Laina  female  26.0      0   \n",
      "3       Futrelle, Mrs. Jacques Heath (Lily May Peel)  female  35.0      1   \n",
      "4                           Allen, Mr. William Henry    male  35.0      0   \n",
      "\n",
      "   Parch            Ticket     Fare Cabin Embarked  \n",
      "0      0         A/5 21171   7.2500   NaN        S  \n",
      "1      0          PC 17599  71.2833   C85        C  \n",
      "2      0  STON/O2. 3101282   7.9250   NaN        S  \n",
      "3      0            113803  53.1000  C123        S  \n",
      "4      0            373450   8.0500   NaN        S  \n"
     ]
    }
   ],
   "source": [
    "# abit of practice with .csvs\n",
    "titanic_data = pd.read_csv(r\"/Users/Toki3Duckie/code/SavvyCoders/DAP-Curriculum/Section05/resources/titanic.csv\")\n",
    "print(titanic_data.head())"
   ]
  },
  {
   "cell_type": "code",
   "execution_count": 20,
   "metadata": {},
   "outputs": [
    {
     "name": "stdout",
     "output_type": "stream",
     "text": [
      "   Id  Survived  Passenger Class  \\\n",
      "0   1         0                3   \n",
      "1   2         1                1   \n",
      "2   3         1                3   \n",
      "3   4         1                1   \n",
      "4   5         0                3   \n",
      "\n",
      "                                           Full Name  Gender   Age  SibSp  \\\n",
      "0                            Braund, Mr. Owen Harris    male  22.0      1   \n",
      "1  Cumings, Mrs. John Bradley (Florence Briggs Th...  female  38.0      1   \n",
      "2                             Heikkinen, Miss. Laina  female  26.0      0   \n",
      "3       Futrelle, Mrs. Jacques Heath (Lily May Peel)  female  35.0      1   \n",
      "4                           Allen, Mr. William Henry    male  35.0      0   \n",
      "\n",
      "   Parch     Ticket Number    Price Cabin Station  \n",
      "0      0         A/5 21171   7.2500   NaN       S  \n",
      "1      0          PC 17599  71.2833   C85       C  \n",
      "2      0  STON/O2. 3101282   7.9250   NaN       S  \n",
      "3      0            113803  53.1000  C123       S  \n",
      "4      0            373450   8.0500   NaN       S  \n"
     ]
    }
   ],
   "source": [
    "col_names = [\"Id\", \"Survived\", \"Passenger Class\", \n",
    "             \"Full Name\", \"Gender\", \"Age\", \"SibSp\", \n",
    "             \"Parch\", \"Ticket Number\", \"Price\", \n",
    "            \"Cabin\", \"Station\"]\n",
    "\n",
    "df = pd.read_csv(r\"/Users/Toki3Duckie/code/SavvyCoders/DAP-Curriculum/Section05/resources/titanic.csv\", names = col_names, skiprows = [0])\n",
    "print(df.head())\n",
    "\n",
    "df.to_csv(\"use_titanic.csv\", index = False)"
   ]
  },
  {
   "cell_type": "code",
   "execution_count": 21,
   "metadata": {},
   "outputs": [
    {
     "name": "stdout",
     "output_type": "stream",
     "text": [
      "   Id  Survived  Passenger Class  \\\n",
      "0   1         0                3   \n",
      "1   2         1                1   \n",
      "2   3         1                3   \n",
      "3   4         1                1   \n",
      "4   5         0                3   \n",
      "\n",
      "                                           Full Name  Gender   Age  SibSp  \\\n",
      "0                            Braund, Mr. Owen Harris    male  22.0      1   \n",
      "1  Cumings, Mrs. John Bradley (Florence Briggs Th...  female  38.0      1   \n",
      "2                             Heikkinen, Miss. Laina  female  26.0      0   \n",
      "3       Futrelle, Mrs. Jacques Heath (Lily May Peel)  female  35.0      1   \n",
      "4                           Allen, Mr. William Henry    male  35.0      0   \n",
      "\n",
      "   Parch     Ticket Number    Price Cabin Station  \n",
      "0      0         A/5 21171   7.2500   NaN       S  \n",
      "1      0          PC 17599  71.2833   C85       C  \n",
      "2      0  STON/O2. 3101282   7.9250   NaN       S  \n",
      "3      0            113803  53.1000  C123       S  \n",
      "4      0            373450   8.0500   NaN       S  \n"
     ]
    }
   ],
   "source": [
    "df = pd.read_csv(r\"/Users/Toki3Duckie/code/SavvyCoders/Class-Notes/use_titanic.csv\")\n",
    "print(df.head())"
   ]
  }
 ],
 "metadata": {
  "kernelspec": {
   "display_name": "Python 3",
   "language": "python",
   "name": "python3"
  },
  "language_info": {
   "codemirror_mode": {
    "name": "ipython",
    "version": 3
   },
   "file_extension": ".py",
   "mimetype": "text/x-python",
   "name": "python",
   "nbconvert_exporter": "python",
   "pygments_lexer": "ipython3",
   "version": "3.13.2"
  }
 },
 "nbformat": 4,
 "nbformat_minor": 2
}
